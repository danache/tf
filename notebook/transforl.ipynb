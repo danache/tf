{
 "cells": [
  {
   "cell_type": "code",
   "execution_count": 1,
   "metadata": {
    "collapsed": true
   },
   "outputs": [],
   "source": [
    "import numpy as np"
   ]
  },
  {
   "cell_type": "code",
   "execution_count": 2,
   "metadata": {
    "collapsed": true
   },
   "outputs": [],
   "source": [
    "def getTransform(center, scale, rot, res):\n",
    "    h =  scale\n",
    "    t = np.eye(3)\n",
    "\n",
    "    # Scaling\n",
    "    t[0][0] = res / h\n",
    "    t[0][0] = res / h\n",
    "\n",
    "    \n",
    "    t[0][1] = res * (-center[0] / h + .5)\n",
    "    t[1][2] = res * (-center[1] / h + .5)\n",
    "    return t\n",
    "\n",
    "\n",
    "def transform(pt, center, scale, rot, res, invert):\n",
    "    pt_ = np.ones(3)\n",
    "\n",
    "\n",
    "    t = getTransform(center, scale, rot, res)\n",
    "    if invert :\n",
    "        t = t.I\n",
    "    \n",
    "    new_point = (t*pt_)[:1]\n",
    "\n",
    "    return new_point"
   ]
  },
  {
   "cell_type": "code",
   "execution_count": 4,
   "metadata": {
    "collapsed": true
   },
   "outputs": [],
   "source": [
    "tmp = np.array([66, 264, 149, 516,  319, 476, 303, 265, 276, 548, 420, 524,  118, 713,  0, 0,  0, 0, 3, 252, 695,  0, 0, 0, 0, 172, 53,198, 250])"
   ]
  },
  {
   "cell_type": "code",
   "execution_count": null,
   "metadata": {
    "collapsed": true
   },
   "outputs": [],
   "source": [
    "tmp"
   ]
  }
 ],
 "metadata": {
  "kernelspec": {
   "display_name": "Python [conda env:tf14]",
   "language": "python",
   "name": "conda-env-tf14-py"
  },
  "language_info": {
   "codemirror_mode": {
    "name": "ipython",
    "version": 3
   },
   "file_extension": ".py",
   "mimetype": "text/x-python",
   "name": "python",
   "nbconvert_exporter": "python",
   "pygments_lexer": "ipython3",
   "version": "3.5.4"
  }
 },
 "nbformat": 4,
 "nbformat_minor": 2
}
