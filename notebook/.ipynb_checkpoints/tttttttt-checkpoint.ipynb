{
 "cells": [
  {
   "cell_type": "code",
   "execution_count": 1,
   "metadata": {},
   "outputs": [
    {
     "name": "stdout",
     "output_type": "stream",
     "text": [
      "/home/bnrc2/mu/tf\n"
     ]
    }
   ],
   "source": [
    "%cd ..\n",
    "import sys\n",
    "sys.path.append(sys.path[0])\n",
    "del sys.path[0]\n",
    "import tensorflow as tf\n",
    "from dataGenerator.datagen import DataGenerator\n",
    "from train import process_config\n",
    "from train import process_network\n",
    "from tools.keypoint_eval import load_annotations\n",
    "from tools.keypoint_eval import getScore\n",
    "import pandas as pd\n",
    "import os\n",
    "from eval.ht2coord import getjointcoord\n",
    "from four_stack.Hourglass import HourglassModel\n",
    "os.environ[\"CUDA_VISIBLE_DEVICES\"] = \"1\"\n",
    "params = process_config('./config/config_2.cfg')\n",
    "network_params = process_network(\"./config/hourglass.cfg\")"
   ]
  },
  {
   "cell_type": "code",
   "execution_count": 2,
   "metadata": {},
   "outputs": [
    {
     "name": "stdout",
     "output_type": "stream",
     "text": [
      "/media/bnrc2/_backup/dataset/aiclg/mini_train_no_aug.tfrecords\n",
      "record file exist!!\n"
     ]
    }
   ],
   "source": [
    "\n",
    "show_step = params[\"show_step\"]\n",
    "test_data = DataGenerator(imgdir=params['train_img_path'], nstack= network_params['nstack'],label_dir=params['label_dir'],\n",
    "                           out_record=params['train_record'],num_txt=params['train_num_txt'],\n",
    "                           batch_size=params['batch_size'], name=\"train_mini\", is_aug=False,isvalid=True,scale=\n",
    "                           params['scale'])\n",
    "img, hm,sz,nm= test_data.getData()\n",
    "init = tf.group(tf.global_variables_initializer(),\n",
    "                    tf.local_variables_initializer())\n",
    "img_idr = \"/media/bnrc2/_backup/ai/ai_challenger_keypoint_train_20170902/keypoint_train_images_20170902/\"\n",
    "\n",
    "\n",
    "\n",
    "label_tmp = pd.read_json(params[\"label_dir\"])\n",
    "\n",
    "resume=params[\"resume\"]"
   ]
  },
  {
   "cell_type": "code",
   "execution_count": 3,
   "metadata": {
    "collapsed": true
   },
   "outputs": [],
   "source": [
    "sess = tf.InteractiveSession()"
   ]
  },
  {
   "cell_type": "code",
   "execution_count": 4,
   "metadata": {},
   "outputs": [
    {
     "name": "stdout",
     "output_type": "stream",
     "text": [
      "  [TL] InputLayer  input: (16, 256, 256, 3)\n",
      "  [TL] Conv2dLayer hg_model/conv1: shape:[7, 7, 3, 64] strides:[1, 2, 2, 1] pad:SAME act:identity\n",
      "  [TL] BatchNormLayer hg_model/bn1: decay:0.900000 epsilon:0.000010 act:relu is_train:False\n",
      "  [TL] BatchNormLayer hg_model/hg_model_Residual1/hg_model_Residual1_convBlock/bn1: decay:0.900000 epsilon:0.000010 act:relu is_train:False\n",
      "  [TL] Conv2dLayer hg_model/hg_model_Residual1/hg_model_Residual1_convBlock/conv1: shape:[1, 1, 64, 64.0] strides:[1, 1, 1, 1] pad:SAME act:identity\n",
      "  [TL] BatchNormLayer hg_model/hg_model_Residual1/hg_model_Residual1_convBlock/bn2: decay:0.900000 epsilon:0.000010 act:relu is_train:False\n",
      "  [TL] Conv2dLayer hg_model/hg_model_Residual1/hg_model_Residual1_convBlock/conv2: shape:[3, 3, 64, 64.0] strides:[1, 1, 1, 1] pad:SAME act:identity\n",
      "  [TL] BatchNormLayer hg_model/hg_model_Residual1/hg_model_Residual1_convBlock/bn3: decay:0.900000 epsilon:0.000010 act:relu is_train:False\n",
      "  [TL] Conv2dLayer hg_model/hg_model_Residual1/hg_model_Residual1_convBlock/conv3: shape:[1, 1, 64, 128] strides:[1, 1, 1, 1] pad:SAME act:identity\n",
      "  [TL] Conv2dLayer hg_model/hg_model_Residual1/hg_model_Residual1_skipLayer/conv: shape:[1, 1, 64, 128] strides:[1, 1, 1, 1] pad:SAME act:identity\n",
      "  [TL] ElementwiseLayer hg_model/hg_model_Residual1/hg_model_Residual1_add_layer: size:(16, 128, 128, 128) fn:add\n",
      "  [TL] PoolLayer   hg_model/pool1: ksize:[1, 2, 2, 1] strides:[1, 2, 2, 1] padding:SAME pool:max_pool\n",
      "  [TL] BatchNormLayer hg_model/hg_model_Residual2/hg_model_Residual2_convBlock/bn1: decay:0.900000 epsilon:0.000010 act:relu is_train:False\n",
      "  [TL] Conv2dLayer hg_model/hg_model_Residual2/hg_model_Residual2_convBlock/conv1: shape:[1, 1, 128, 64.0] strides:[1, 1, 1, 1] pad:SAME act:identity\n",
      "  [TL] BatchNormLayer hg_model/hg_model_Residual2/hg_model_Residual2_convBlock/bn2: decay:0.900000 epsilon:0.000010 act:relu is_train:False\n",
      "  [TL] Conv2dLayer hg_model/hg_model_Residual2/hg_model_Residual2_convBlock/conv2: shape:[3, 3, 64, 64.0] strides:[1, 1, 1, 1] pad:SAME act:identity\n",
      "  [TL] BatchNormLayer hg_model/hg_model_Residual2/hg_model_Residual2_convBlock/bn3: decay:0.900000 epsilon:0.000010 act:relu is_train:False\n",
      "  [TL] Conv2dLayer hg_model/hg_model_Residual2/hg_model_Residual2_convBlock/conv3: shape:[1, 1, 64, 128] strides:[1, 1, 1, 1] pad:SAME act:identity\n",
      "  [TL] ElementwiseLayer hg_model/hg_model_Residual2/hg_model_Residual2_add_layer: size:(16, 64, 64, 128) fn:add\n",
      "  [TL] BatchNormLayer hg_model/hg_model_Residual3/hg_model_Residual3_convBlock/bn1: decay:0.900000 epsilon:0.000010 act:relu is_train:False\n",
      "  [TL] Conv2dLayer hg_model/hg_model_Residual3/hg_model_Residual3_convBlock/conv1: shape:[1, 1, 128, 128.0] strides:[1, 1, 1, 1] pad:SAME act:identity\n",
      "  [TL] BatchNormLayer hg_model/hg_model_Residual3/hg_model_Residual3_convBlock/bn2: decay:0.900000 epsilon:0.000010 act:relu is_train:False\n",
      "  [TL] Conv2dLayer hg_model/hg_model_Residual3/hg_model_Residual3_convBlock/conv2: shape:[3, 3, 128, 128.0] strides:[1, 1, 1, 1] pad:SAME act:identity\n",
      "  [TL] BatchNormLayer hg_model/hg_model_Residual3/hg_model_Residual3_convBlock/bn3: decay:0.900000 epsilon:0.000010 act:relu is_train:False\n",
      "  [TL] Conv2dLayer hg_model/hg_model_Residual3/hg_model_Residual3_convBlock/conv3: shape:[1, 1, 128, 256] strides:[1, 1, 1, 1] pad:SAME act:identity\n",
      "  [TL] Conv2dLayer hg_model/hg_model_Residual3/hg_model_Residual3_skipLayer/conv: shape:[1, 1, 128, 256] strides:[1, 1, 1, 1] pad:SAME act:identity\n",
      "  [TL] ElementwiseLayer hg_model/hg_model_Residual3/hg_model_Residual3_add_layer: size:(16, 64, 64, 256) fn:add\n",
      "  [TL] PoolLayer   hg_stack/stage_0_hg/pool1: ksize:[1, 2, 2, 1] strides:[1, 2, 2, 1] padding:SAME pool:max_pool\n",
      "  [TL] BatchNormLayer hg_stack/stage_0_hg/stage_0_hg_tmpup_0/stage_0_hg_tmpup_0_convBlock/bn1: decay:0.900000 epsilon:0.000010 act:relu is_train:False\n",
      "  [TL] Conv2dLayer hg_stack/stage_0_hg/stage_0_hg_tmpup_0/stage_0_hg_tmpup_0_convBlock/conv1: shape:[1, 1, 256, 128.0] strides:[1, 1, 1, 1] pad:SAME act:identity\n",
      "  [TL] BatchNormLayer hg_stack/stage_0_hg/stage_0_hg_tmpup_0/stage_0_hg_tmpup_0_convBlock/bn2: decay:0.900000 epsilon:0.000010 act:relu is_train:False\n",
      "  [TL] Conv2dLayer hg_stack/stage_0_hg/stage_0_hg_tmpup_0/stage_0_hg_tmpup_0_convBlock/conv2: shape:[3, 3, 128, 128.0] strides:[1, 1, 1, 1] pad:SAME act:identity\n",
      "  [TL] BatchNormLayer hg_stack/stage_0_hg/stage_0_hg_tmpup_0/stage_0_hg_tmpup_0_convBlock/bn3: decay:0.900000 epsilon:0.000010 act:relu is_train:False\n",
      "  [TL] Conv2dLayer hg_stack/stage_0_hg/stage_0_hg_tmpup_0/stage_0_hg_tmpup_0_convBlock/conv3: shape:[1, 1, 128, 256] strides:[1, 1, 1, 1] pad:SAME act:identity\n",
      "  [TL] ElementwiseLayer hg_stack/stage_0_hg/stage_0_hg_tmpup_0/stage_0_hg_tmpup_0_add_layer: size:(16, 64, 64, 256) fn:add\n",
      "  [TL] BatchNormLayer hg_stack/stage_0_hg/stage_0_hg_tmplow_0/stage_0_hg_tmplow_0_convBlock/bn1: decay:0.900000 epsilon:0.000010 act:relu is_train:False\n",
      "  [TL] Conv2dLayer hg_stack/stage_0_hg/stage_0_hg_tmplow_0/stage_0_hg_tmplow_0_convBlock/conv1: shape:[1, 1, 256, 128.0] strides:[1, 1, 1, 1] pad:SAME act:identity\n",
      "  [TL] BatchNormLayer hg_stack/stage_0_hg/stage_0_hg_tmplow_0/stage_0_hg_tmplow_0_convBlock/bn2: decay:0.900000 epsilon:0.000010 act:relu is_train:False\n",
      "  [TL] Conv2dLayer hg_stack/stage_0_hg/stage_0_hg_tmplow_0/stage_0_hg_tmplow_0_convBlock/conv2: shape:[3, 3, 128, 128.0] strides:[1, 1, 1, 1] pad:SAME act:identity\n",
      "  [TL] BatchNormLayer hg_stack/stage_0_hg/stage_0_hg_tmplow_0/stage_0_hg_tmplow_0_convBlock/bn3: decay:0.900000 epsilon:0.000010 act:relu is_train:False\n",
      "  [TL] Conv2dLayer hg_stack/stage_0_hg/stage_0_hg_tmplow_0/stage_0_hg_tmplow_0_convBlock/conv3: shape:[1, 1, 128, 256] strides:[1, 1, 1, 1] pad:SAME act:identity\n",
      "  [TL] ElementwiseLayer hg_stack/stage_0_hg/stage_0_hg_tmplow_0/stage_0_hg_tmplow_0_add_layer: size:(16, 32, 32, 256) fn:add\n",
      "  [TL] BatchNormLayer hg_stack/stage_0_hg/stage_0_hg_tmpup_1/stage_0_hg_tmpup_1_convBlock/bn1: decay:0.900000 epsilon:0.000010 act:relu is_train:False\n",
      "  [TL] Conv2dLayer hg_stack/stage_0_hg/stage_0_hg_tmpup_1/stage_0_hg_tmpup_1_convBlock/conv1: shape:[1, 1, 256, 128.0] strides:[1, 1, 1, 1] pad:SAME act:identity\n",
      "  [TL] BatchNormLayer hg_stack/stage_0_hg/stage_0_hg_tmpup_1/stage_0_hg_tmpup_1_convBlock/bn2: decay:0.900000 epsilon:0.000010 act:relu is_train:False\n",
      "  [TL] Conv2dLayer hg_stack/stage_0_hg/stage_0_hg_tmpup_1/stage_0_hg_tmpup_1_convBlock/conv2: shape:[3, 3, 128, 128.0] strides:[1, 1, 1, 1] pad:SAME act:identity\n",
      "  [TL] BatchNormLayer hg_stack/stage_0_hg/stage_0_hg_tmpup_1/stage_0_hg_tmpup_1_convBlock/bn3: decay:0.900000 epsilon:0.000010 act:relu is_train:False\n",
      "  [TL] Conv2dLayer hg_stack/stage_0_hg/stage_0_hg_tmpup_1/stage_0_hg_tmpup_1_convBlock/conv3: shape:[1, 1, 128, 256] strides:[1, 1, 1, 1] pad:SAME act:identity\n",
      "  [TL] ElementwiseLayer hg_stack/stage_0_hg/stage_0_hg_tmpup_1/stage_0_hg_tmpup_1_add_layer: size:(16, 64, 64, 256) fn:add\n",
      "  [TL] BatchNormLayer hg_stack/stage_0_hg/stage_0_hg_tmplow_1/stage_0_hg_tmplow_1_convBlock/bn1: decay:0.900000 epsilon:0.000010 act:relu is_train:False\n",
      "  [TL] Conv2dLayer hg_stack/stage_0_hg/stage_0_hg_tmplow_1/stage_0_hg_tmplow_1_convBlock/conv1: shape:[1, 1, 256, 128.0] strides:[1, 1, 1, 1] pad:SAME act:identity\n",
      "  [TL] BatchNormLayer hg_stack/stage_0_hg/stage_0_hg_tmplow_1/stage_0_hg_tmplow_1_convBlock/bn2: decay:0.900000 epsilon:0.000010 act:relu is_train:False\n",
      "  [TL] Conv2dLayer hg_stack/stage_0_hg/stage_0_hg_tmplow_1/stage_0_hg_tmplow_1_convBlock/conv2: shape:[3, 3, 128, 128.0] strides:[1, 1, 1, 1] pad:SAME act:identity\n",
      "  [TL] BatchNormLayer hg_stack/stage_0_hg/stage_0_hg_tmplow_1/stage_0_hg_tmplow_1_convBlock/bn3: decay:0.900000 epsilon:0.000010 act:relu is_train:False\n",
      "  [TL] Conv2dLayer hg_stack/stage_0_hg/stage_0_hg_tmplow_1/stage_0_hg_tmplow_1_convBlock/conv3: shape:[1, 1, 128, 256] strides:[1, 1, 1, 1] pad:SAME act:identity\n",
      "  [TL] ElementwiseLayer hg_stack/stage_0_hg/stage_0_hg_tmplow_1/stage_0_hg_tmplow_1_add_layer: size:(16, 32, 32, 256) fn:add\n",
      "  [TL] PoolLayer   hg_stack/stage_0_hg/stage_0_hg_low2_3/pool1: ksize:[1, 2, 2, 1] strides:[1, 2, 2, 1] padding:SAME pool:max_pool\n",
      "  [TL] BatchNormLayer hg_stack/stage_0_hg/stage_0_hg_low2_3/stage_0_hg_low2_3_tmpup_0/stage_0_hg_low2_3_tmpup_0_convBlock/bn1: decay:0.900000 epsilon:0.000010 act:relu is_train:False\n",
      "  [TL] Conv2dLayer hg_stack/stage_0_hg/stage_0_hg_low2_3/stage_0_hg_low2_3_tmpup_0/stage_0_hg_low2_3_tmpup_0_convBlock/conv1: shape:[1, 1, 256, 128.0] strides:[1, 1, 1, 1] pad:SAME act:identity\n",
      "  [TL] BatchNormLayer hg_stack/stage_0_hg/stage_0_hg_low2_3/stage_0_hg_low2_3_tmpup_0/stage_0_hg_low2_3_tmpup_0_convBlock/bn2: decay:0.900000 epsilon:0.000010 act:relu is_train:False\n",
      "  [TL] Conv2dLayer hg_stack/stage_0_hg/stage_0_hg_low2_3/stage_0_hg_low2_3_tmpup_0/stage_0_hg_low2_3_tmpup_0_convBlock/conv2: shape:[3, 3, 128, 128.0] strides:[1, 1, 1, 1] pad:SAME act:identity\n",
      "  [TL] BatchNormLayer hg_stack/stage_0_hg/stage_0_hg_low2_3/stage_0_hg_low2_3_tmpup_0/stage_0_hg_low2_3_tmpup_0_convBlock/bn3: decay:0.900000 epsilon:0.000010 act:relu is_train:False\n"
     ]
    },
    {
     "name": "stdout",
     "output_type": "stream",
     "text": [
      "  [TL] Conv2dLayer hg_stack/stage_0_hg/stage_0_hg_low2_3/stage_0_hg_low2_3_tmpup_0/stage_0_hg_low2_3_tmpup_0_convBlock/conv3: shape:[1, 1, 128, 256] strides:[1, 1, 1, 1] pad:SAME act:identity\n",
      "  [TL] ElementwiseLayer hg_stack/stage_0_hg/stage_0_hg_low2_3/stage_0_hg_low2_3_tmpup_0/stage_0_hg_low2_3_tmpup_0_add_layer: size:(16, 32, 32, 256) fn:add\n",
      "  [TL] BatchNormLayer hg_stack/stage_0_hg/stage_0_hg_low2_3/stage_0_hg_low2_3_tmplow_0/stage_0_hg_low2_3_tmplow_0_convBlock/bn1: decay:0.900000 epsilon:0.000010 act:relu is_train:False\n",
      "  [TL] Conv2dLayer hg_stack/stage_0_hg/stage_0_hg_low2_3/stage_0_hg_low2_3_tmplow_0/stage_0_hg_low2_3_tmplow_0_convBlock/conv1: shape:[1, 1, 256, 128.0] strides:[1, 1, 1, 1] pad:SAME act:identity\n",
      "  [TL] BatchNormLayer hg_stack/stage_0_hg/stage_0_hg_low2_3/stage_0_hg_low2_3_tmplow_0/stage_0_hg_low2_3_tmplow_0_convBlock/bn2: decay:0.900000 epsilon:0.000010 act:relu is_train:False\n",
      "  [TL] Conv2dLayer hg_stack/stage_0_hg/stage_0_hg_low2_3/stage_0_hg_low2_3_tmplow_0/stage_0_hg_low2_3_tmplow_0_convBlock/conv2: shape:[3, 3, 128, 128.0] strides:[1, 1, 1, 1] pad:SAME act:identity\n",
      "  [TL] BatchNormLayer hg_stack/stage_0_hg/stage_0_hg_low2_3/stage_0_hg_low2_3_tmplow_0/stage_0_hg_low2_3_tmplow_0_convBlock/bn3: decay:0.900000 epsilon:0.000010 act:relu is_train:False\n",
      "  [TL] Conv2dLayer hg_stack/stage_0_hg/stage_0_hg_low2_3/stage_0_hg_low2_3_tmplow_0/stage_0_hg_low2_3_tmplow_0_convBlock/conv3: shape:[1, 1, 128, 256] strides:[1, 1, 1, 1] pad:SAME act:identity\n",
      "  [TL] ElementwiseLayer hg_stack/stage_0_hg/stage_0_hg_low2_3/stage_0_hg_low2_3_tmplow_0/stage_0_hg_low2_3_tmplow_0_add_layer: size:(16, 16, 16, 256) fn:add\n",
      "  [TL] BatchNormLayer hg_stack/stage_0_hg/stage_0_hg_low2_3/stage_0_hg_low2_3_tmpup_1/stage_0_hg_low2_3_tmpup_1_convBlock/bn1: decay:0.900000 epsilon:0.000010 act:relu is_train:False\n",
      "  [TL] Conv2dLayer hg_stack/stage_0_hg/stage_0_hg_low2_3/stage_0_hg_low2_3_tmpup_1/stage_0_hg_low2_3_tmpup_1_convBlock/conv1: shape:[1, 1, 256, 128.0] strides:[1, 1, 1, 1] pad:SAME act:identity\n",
      "  [TL] BatchNormLayer hg_stack/stage_0_hg/stage_0_hg_low2_3/stage_0_hg_low2_3_tmpup_1/stage_0_hg_low2_3_tmpup_1_convBlock/bn2: decay:0.900000 epsilon:0.000010 act:relu is_train:False\n",
      "  [TL] Conv2dLayer hg_stack/stage_0_hg/stage_0_hg_low2_3/stage_0_hg_low2_3_tmpup_1/stage_0_hg_low2_3_tmpup_1_convBlock/conv2: shape:[3, 3, 128, 128.0] strides:[1, 1, 1, 1] pad:SAME act:identity\n",
      "  [TL] BatchNormLayer hg_stack/stage_0_hg/stage_0_hg_low2_3/stage_0_hg_low2_3_tmpup_1/stage_0_hg_low2_3_tmpup_1_convBlock/bn3: decay:0.900000 epsilon:0.000010 act:relu is_train:False\n",
      "  [TL] Conv2dLayer hg_stack/stage_0_hg/stage_0_hg_low2_3/stage_0_hg_low2_3_tmpup_1/stage_0_hg_low2_3_tmpup_1_convBlock/conv3: shape:[1, 1, 128, 256] strides:[1, 1, 1, 1] pad:SAME act:identity\n",
      "  [TL] ElementwiseLayer hg_stack/stage_0_hg/stage_0_hg_low2_3/stage_0_hg_low2_3_tmpup_1/stage_0_hg_low2_3_tmpup_1_add_layer: size:(16, 32, 32, 256) fn:add\n",
      "  [TL] BatchNormLayer hg_stack/stage_0_hg/stage_0_hg_low2_3/stage_0_hg_low2_3_tmplow_1/stage_0_hg_low2_3_tmplow_1_convBlock/bn1: decay:0.900000 epsilon:0.000010 act:relu is_train:False\n",
      "  [TL] Conv2dLayer hg_stack/stage_0_hg/stage_0_hg_low2_3/stage_0_hg_low2_3_tmplow_1/stage_0_hg_low2_3_tmplow_1_convBlock/conv1: shape:[1, 1, 256, 128.0] strides:[1, 1, 1, 1] pad:SAME act:identity\n",
      "  [TL] BatchNormLayer hg_stack/stage_0_hg/stage_0_hg_low2_3/stage_0_hg_low2_3_tmplow_1/stage_0_hg_low2_3_tmplow_1_convBlock/bn2: decay:0.900000 epsilon:0.000010 act:relu is_train:False\n",
      "  [TL] Conv2dLayer hg_stack/stage_0_hg/stage_0_hg_low2_3/stage_0_hg_low2_3_tmplow_1/stage_0_hg_low2_3_tmplow_1_convBlock/conv2: shape:[3, 3, 128, 128.0] strides:[1, 1, 1, 1] pad:SAME act:identity\n",
      "  [TL] BatchNormLayer hg_stack/stage_0_hg/stage_0_hg_low2_3/stage_0_hg_low2_3_tmplow_1/stage_0_hg_low2_3_tmplow_1_convBlock/bn3: decay:0.900000 epsilon:0.000010 act:relu is_train:False\n",
      "  [TL] Conv2dLayer hg_stack/stage_0_hg/stage_0_hg_low2_3/stage_0_hg_low2_3_tmplow_1/stage_0_hg_low2_3_tmplow_1_convBlock/conv3: shape:[1, 1, 128, 256] strides:[1, 1, 1, 1] pad:SAME act:identity\n",
      "  [TL] ElementwiseLayer hg_stack/stage_0_hg/stage_0_hg_low2_3/stage_0_hg_low2_3_tmplow_1/stage_0_hg_low2_3_tmplow_1_add_layer: size:(16, 16, 16, 256) fn:add\n",
      "  [TL] PoolLayer   hg_stack/stage_0_hg/stage_0_hg_low2_3/stage_0_hg_low2_3_low2_2/pool1: ksize:[1, 2, 2, 1] strides:[1, 2, 2, 1] padding:SAME pool:max_pool\n",
      "  [TL] BatchNormLayer hg_stack/stage_0_hg/stage_0_hg_low2_3/stage_0_hg_low2_3_low2_2/stage_0_hg_low2_3_low2_2_tmpup_0/stage_0_hg_low2_3_low2_2_tmpup_0_convBlock/bn1: decay:0.900000 epsilon:0.000010 act:relu is_train:False\n",
      "  [TL] Conv2dLayer hg_stack/stage_0_hg/stage_0_hg_low2_3/stage_0_hg_low2_3_low2_2/stage_0_hg_low2_3_low2_2_tmpup_0/stage_0_hg_low2_3_low2_2_tmpup_0_convBlock/conv1: shape:[1, 1, 256, 128.0] strides:[1, 1, 1, 1] pad:SAME act:identity\n",
      "  [TL] BatchNormLayer hg_stack/stage_0_hg/stage_0_hg_low2_3/stage_0_hg_low2_3_low2_2/stage_0_hg_low2_3_low2_2_tmpup_0/stage_0_hg_low2_3_low2_2_tmpup_0_convBlock/bn2: decay:0.900000 epsilon:0.000010 act:relu is_train:False\n",
      "  [TL] Conv2dLayer hg_stack/stage_0_hg/stage_0_hg_low2_3/stage_0_hg_low2_3_low2_2/stage_0_hg_low2_3_low2_2_tmpup_0/stage_0_hg_low2_3_low2_2_tmpup_0_convBlock/conv2: shape:[3, 3, 128, 128.0] strides:[1, 1, 1, 1] pad:SAME act:identity\n",
      "  [TL] BatchNormLayer hg_stack/stage_0_hg/stage_0_hg_low2_3/stage_0_hg_low2_3_low2_2/stage_0_hg_low2_3_low2_2_tmpup_0/stage_0_hg_low2_3_low2_2_tmpup_0_convBlock/bn3: decay:0.900000 epsilon:0.000010 act:relu is_train:False\n",
      "  [TL] Conv2dLayer hg_stack/stage_0_hg/stage_0_hg_low2_3/stage_0_hg_low2_3_low2_2/stage_0_hg_low2_3_low2_2_tmpup_0/stage_0_hg_low2_3_low2_2_tmpup_0_convBlock/conv3: shape:[1, 1, 128, 256] strides:[1, 1, 1, 1] pad:SAME act:identity\n",
      "  [TL] ElementwiseLayer hg_stack/stage_0_hg/stage_0_hg_low2_3/stage_0_hg_low2_3_low2_2/stage_0_hg_low2_3_low2_2_tmpup_0/stage_0_hg_low2_3_low2_2_tmpup_0_add_layer: size:(16, 16, 16, 256) fn:add\n",
      "  [TL] BatchNormLayer hg_stack/stage_0_hg/stage_0_hg_low2_3/stage_0_hg_low2_3_low2_2/stage_0_hg_low2_3_low2_2_tmplow_0/stage_0_hg_low2_3_low2_2_tmplow_0_convBlock/bn1: decay:0.900000 epsilon:0.000010 act:relu is_train:False\n",
      "  [TL] Conv2dLayer hg_stack/stage_0_hg/stage_0_hg_low2_3/stage_0_hg_low2_3_low2_2/stage_0_hg_low2_3_low2_2_tmplow_0/stage_0_hg_low2_3_low2_2_tmplow_0_convBlock/conv1: shape:[1, 1, 256, 128.0] strides:[1, 1, 1, 1] pad:SAME act:identity\n",
      "  [TL] BatchNormLayer hg_stack/stage_0_hg/stage_0_hg_low2_3/stage_0_hg_low2_3_low2_2/stage_0_hg_low2_3_low2_2_tmplow_0/stage_0_hg_low2_3_low2_2_tmplow_0_convBlock/bn2: decay:0.900000 epsilon:0.000010 act:relu is_train:False\n",
      "  [TL] Conv2dLayer hg_stack/stage_0_hg/stage_0_hg_low2_3/stage_0_hg_low2_3_low2_2/stage_0_hg_low2_3_low2_2_tmplow_0/stage_0_hg_low2_3_low2_2_tmplow_0_convBlock/conv2: shape:[3, 3, 128, 128.0] strides:[1, 1, 1, 1] pad:SAME act:identity\n",
      "  [TL] BatchNormLayer hg_stack/stage_0_hg/stage_0_hg_low2_3/stage_0_hg_low2_3_low2_2/stage_0_hg_low2_3_low2_2_tmplow_0/stage_0_hg_low2_3_low2_2_tmplow_0_convBlock/bn3: decay:0.900000 epsilon:0.000010 act:relu is_train:False\n",
      "  [TL] Conv2dLayer hg_stack/stage_0_hg/stage_0_hg_low2_3/stage_0_hg_low2_3_low2_2/stage_0_hg_low2_3_low2_2_tmplow_0/stage_0_hg_low2_3_low2_2_tmplow_0_convBlock/conv3: shape:[1, 1, 128, 256] strides:[1, 1, 1, 1] pad:SAME act:identity\n",
      "  [TL] ElementwiseLayer hg_stack/stage_0_hg/stage_0_hg_low2_3/stage_0_hg_low2_3_low2_2/stage_0_hg_low2_3_low2_2_tmplow_0/stage_0_hg_low2_3_low2_2_tmplow_0_add_layer: size:(16, 8, 8, 256) fn:add\n",
      "  [TL] BatchNormLayer hg_stack/stage_0_hg/stage_0_hg_low2_3/stage_0_hg_low2_3_low2_2/stage_0_hg_low2_3_low2_2_tmpup_1/stage_0_hg_low2_3_low2_2_tmpup_1_convBlock/bn1: decay:0.900000 epsilon:0.000010 act:relu is_train:False\n",
      "  [TL] Conv2dLayer hg_stack/stage_0_hg/stage_0_hg_low2_3/stage_0_hg_low2_3_low2_2/stage_0_hg_low2_3_low2_2_tmpup_1/stage_0_hg_low2_3_low2_2_tmpup_1_convBlock/conv1: shape:[1, 1, 256, 128.0] strides:[1, 1, 1, 1] pad:SAME act:identity\n",
      "  [TL] BatchNormLayer hg_stack/stage_0_hg/stage_0_hg_low2_3/stage_0_hg_low2_3_low2_2/stage_0_hg_low2_3_low2_2_tmpup_1/stage_0_hg_low2_3_low2_2_tmpup_1_convBlock/bn2: decay:0.900000 epsilon:0.000010 act:relu is_train:False\n",
      "  [TL] Conv2dLayer hg_stack/stage_0_hg/stage_0_hg_low2_3/stage_0_hg_low2_3_low2_2/stage_0_hg_low2_3_low2_2_tmpup_1/stage_0_hg_low2_3_low2_2_tmpup_1_convBlock/conv2: shape:[3, 3, 128, 128.0] strides:[1, 1, 1, 1] pad:SAME act:identity\n",
      "  [TL] BatchNormLayer hg_stack/stage_0_hg/stage_0_hg_low2_3/stage_0_hg_low2_3_low2_2/stage_0_hg_low2_3_low2_2_tmpup_1/stage_0_hg_low2_3_low2_2_tmpup_1_convBlock/bn3: decay:0.900000 epsilon:0.000010 act:relu is_train:False\n",
      "  [TL] Conv2dLayer hg_stack/stage_0_hg/stage_0_hg_low2_3/stage_0_hg_low2_3_low2_2/stage_0_hg_low2_3_low2_2_tmpup_1/stage_0_hg_low2_3_low2_2_tmpup_1_convBlock/conv3: shape:[1, 1, 128, 256] strides:[1, 1, 1, 1] pad:SAME act:identity\n",
      "  [TL] ElementwiseLayer hg_stack/stage_0_hg/stage_0_hg_low2_3/stage_0_hg_low2_3_low2_2/stage_0_hg_low2_3_low2_2_tmpup_1/stage_0_hg_low2_3_low2_2_tmpup_1_add_layer: size:(16, 16, 16, 256) fn:add\n",
      "  [TL] BatchNormLayer hg_stack/stage_0_hg/stage_0_hg_low2_3/stage_0_hg_low2_3_low2_2/stage_0_hg_low2_3_low2_2_tmplow_1/stage_0_hg_low2_3_low2_2_tmplow_1_convBlock/bn1: decay:0.900000 epsilon:0.000010 act:relu is_train:False\n",
      "  [TL] Conv2dLayer hg_stack/stage_0_hg/stage_0_hg_low2_3/stage_0_hg_low2_3_low2_2/stage_0_hg_low2_3_low2_2_tmplow_1/stage_0_hg_low2_3_low2_2_tmplow_1_convBlock/conv1: shape:[1, 1, 256, 128.0] strides:[1, 1, 1, 1] pad:SAME act:identity\n",
      "  [TL] BatchNormLayer hg_stack/stage_0_hg/stage_0_hg_low2_3/stage_0_hg_low2_3_low2_2/stage_0_hg_low2_3_low2_2_tmplow_1/stage_0_hg_low2_3_low2_2_tmplow_1_convBlock/bn2: decay:0.900000 epsilon:0.000010 act:relu is_train:False\n",
      "  [TL] Conv2dLayer hg_stack/stage_0_hg/stage_0_hg_low2_3/stage_0_hg_low2_3_low2_2/stage_0_hg_low2_3_low2_2_tmplow_1/stage_0_hg_low2_3_low2_2_tmplow_1_convBlock/conv2: shape:[3, 3, 128, 128.0] strides:[1, 1, 1, 1] pad:SAME act:identity\n"
     ]
    },
    {
     "name": "stdout",
     "output_type": "stream",
     "text": [
      "  [TL] BatchNormLayer hg_stack/stage_0_hg/stage_0_hg_low2_3/stage_0_hg_low2_3_low2_2/stage_0_hg_low2_3_low2_2_tmplow_1/stage_0_hg_low2_3_low2_2_tmplow_1_convBlock/bn3: decay:0.900000 epsilon:0.000010 act:relu is_train:False\n",
      "  [TL] Conv2dLayer hg_stack/stage_0_hg/stage_0_hg_low2_3/stage_0_hg_low2_3_low2_2/stage_0_hg_low2_3_low2_2_tmplow_1/stage_0_hg_low2_3_low2_2_tmplow_1_convBlock/conv3: shape:[1, 1, 128, 256] strides:[1, 1, 1, 1] pad:SAME act:identity\n",
      "  [TL] ElementwiseLayer hg_stack/stage_0_hg/stage_0_hg_low2_3/stage_0_hg_low2_3_low2_2/stage_0_hg_low2_3_low2_2_tmplow_1/stage_0_hg_low2_3_low2_2_tmplow_1_add_layer: size:(16, 8, 8, 256) fn:add\n",
      "  [TL] PoolLayer   hg_stack/stage_0_hg/stage_0_hg_low2_3/stage_0_hg_low2_3_low2_2/stage_0_hg_low2_3_low2_2_low2_1/pool1: ksize:[1, 2, 2, 1] strides:[1, 2, 2, 1] padding:SAME pool:max_pool\n",
      "  [TL] BatchNormLayer hg_stack/stage_0_hg/stage_0_hg_low2_3/stage_0_hg_low2_3_low2_2/stage_0_hg_low2_3_low2_2_low2_1/stage_0_hg_low2_3_low2_2_low2_1_tmpup_0/stage_0_hg_low2_3_low2_2_low2_1_tmpup_0_convBlock/bn1: decay:0.900000 epsilon:0.000010 act:relu is_train:False\n",
      "  [TL] Conv2dLayer hg_stack/stage_0_hg/stage_0_hg_low2_3/stage_0_hg_low2_3_low2_2/stage_0_hg_low2_3_low2_2_low2_1/stage_0_hg_low2_3_low2_2_low2_1_tmpup_0/stage_0_hg_low2_3_low2_2_low2_1_tmpup_0_convBlock/conv1: shape:[1, 1, 256, 128.0] strides:[1, 1, 1, 1] pad:SAME act:identity\n",
      "  [TL] BatchNormLayer hg_stack/stage_0_hg/stage_0_hg_low2_3/stage_0_hg_low2_3_low2_2/stage_0_hg_low2_3_low2_2_low2_1/stage_0_hg_low2_3_low2_2_low2_1_tmpup_0/stage_0_hg_low2_3_low2_2_low2_1_tmpup_0_convBlock/bn2: decay:0.900000 epsilon:0.000010 act:relu is_train:False\n",
      "  [TL] Conv2dLayer hg_stack/stage_0_hg/stage_0_hg_low2_3/stage_0_hg_low2_3_low2_2/stage_0_hg_low2_3_low2_2_low2_1/stage_0_hg_low2_3_low2_2_low2_1_tmpup_0/stage_0_hg_low2_3_low2_2_low2_1_tmpup_0_convBlock/conv2: shape:[3, 3, 128, 128.0] strides:[1, 1, 1, 1] pad:SAME act:identity\n",
      "  [TL] BatchNormLayer hg_stack/stage_0_hg/stage_0_hg_low2_3/stage_0_hg_low2_3_low2_2/stage_0_hg_low2_3_low2_2_low2_1/stage_0_hg_low2_3_low2_2_low2_1_tmpup_0/stage_0_hg_low2_3_low2_2_low2_1_tmpup_0_convBlock/bn3: decay:0.900000 epsilon:0.000010 act:relu is_train:False\n",
      "  [TL] Conv2dLayer hg_stack/stage_0_hg/stage_0_hg_low2_3/stage_0_hg_low2_3_low2_2/stage_0_hg_low2_3_low2_2_low2_1/stage_0_hg_low2_3_low2_2_low2_1_tmpup_0/stage_0_hg_low2_3_low2_2_low2_1_tmpup_0_convBlock/conv3: shape:[1, 1, 128, 256] strides:[1, 1, 1, 1] pad:SAME act:identity\n",
      "  [TL] ElementwiseLayer hg_stack/stage_0_hg/stage_0_hg_low2_3/stage_0_hg_low2_3_low2_2/stage_0_hg_low2_3_low2_2_low2_1/stage_0_hg_low2_3_low2_2_low2_1_tmpup_0/stage_0_hg_low2_3_low2_2_low2_1_tmpup_0_add_layer: size:(16, 8, 8, 256) fn:add\n",
      "  [TL] BatchNormLayer hg_stack/stage_0_hg/stage_0_hg_low2_3/stage_0_hg_low2_3_low2_2/stage_0_hg_low2_3_low2_2_low2_1/stage_0_hg_low2_3_low2_2_low2_1_tmplow_0/stage_0_hg_low2_3_low2_2_low2_1_tmplow_0_convBlock/bn1: decay:0.900000 epsilon:0.000010 act:relu is_train:False\n",
      "  [TL] Conv2dLayer hg_stack/stage_0_hg/stage_0_hg_low2_3/stage_0_hg_low2_3_low2_2/stage_0_hg_low2_3_low2_2_low2_1/stage_0_hg_low2_3_low2_2_low2_1_tmplow_0/stage_0_hg_low2_3_low2_2_low2_1_tmplow_0_convBlock/conv1: shape:[1, 1, 256, 128.0] strides:[1, 1, 1, 1] pad:SAME act:identity\n",
      "  [TL] BatchNormLayer hg_stack/stage_0_hg/stage_0_hg_low2_3/stage_0_hg_low2_3_low2_2/stage_0_hg_low2_3_low2_2_low2_1/stage_0_hg_low2_3_low2_2_low2_1_tmplow_0/stage_0_hg_low2_3_low2_2_low2_1_tmplow_0_convBlock/bn2: decay:0.900000 epsilon:0.000010 act:relu is_train:False\n",
      "  [TL] Conv2dLayer hg_stack/stage_0_hg/stage_0_hg_low2_3/stage_0_hg_low2_3_low2_2/stage_0_hg_low2_3_low2_2_low2_1/stage_0_hg_low2_3_low2_2_low2_1_tmplow_0/stage_0_hg_low2_3_low2_2_low2_1_tmplow_0_convBlock/conv2: shape:[3, 3, 128, 128.0] strides:[1, 1, 1, 1] pad:SAME act:identity\n",
      "  [TL] BatchNormLayer hg_stack/stage_0_hg/stage_0_hg_low2_3/stage_0_hg_low2_3_low2_2/stage_0_hg_low2_3_low2_2_low2_1/stage_0_hg_low2_3_low2_2_low2_1_tmplow_0/stage_0_hg_low2_3_low2_2_low2_1_tmplow_0_convBlock/bn3: decay:0.900000 epsilon:0.000010 act:relu is_train:False\n",
      "  [TL] Conv2dLayer hg_stack/stage_0_hg/stage_0_hg_low2_3/stage_0_hg_low2_3_low2_2/stage_0_hg_low2_3_low2_2_low2_1/stage_0_hg_low2_3_low2_2_low2_1_tmplow_0/stage_0_hg_low2_3_low2_2_low2_1_tmplow_0_convBlock/conv3: shape:[1, 1, 128, 256] strides:[1, 1, 1, 1] pad:SAME act:identity\n",
      "  [TL] ElementwiseLayer hg_stack/stage_0_hg/stage_0_hg_low2_3/stage_0_hg_low2_3_low2_2/stage_0_hg_low2_3_low2_2_low2_1/stage_0_hg_low2_3_low2_2_low2_1_tmplow_0/stage_0_hg_low2_3_low2_2_low2_1_tmplow_0_add_layer: size:(16, 4, 4, 256) fn:add\n",
      "  [TL] BatchNormLayer hg_stack/stage_0_hg/stage_0_hg_low2_3/stage_0_hg_low2_3_low2_2/stage_0_hg_low2_3_low2_2_low2_1/stage_0_hg_low2_3_low2_2_low2_1_tmpup_1/stage_0_hg_low2_3_low2_2_low2_1_tmpup_1_convBlock/bn1: decay:0.900000 epsilon:0.000010 act:relu is_train:False\n",
      "  [TL] Conv2dLayer hg_stack/stage_0_hg/stage_0_hg_low2_3/stage_0_hg_low2_3_low2_2/stage_0_hg_low2_3_low2_2_low2_1/stage_0_hg_low2_3_low2_2_low2_1_tmpup_1/stage_0_hg_low2_3_low2_2_low2_1_tmpup_1_convBlock/conv1: shape:[1, 1, 256, 128.0] strides:[1, 1, 1, 1] pad:SAME act:identity\n",
      "  [TL] BatchNormLayer hg_stack/stage_0_hg/stage_0_hg_low2_3/stage_0_hg_low2_3_low2_2/stage_0_hg_low2_3_low2_2_low2_1/stage_0_hg_low2_3_low2_2_low2_1_tmpup_1/stage_0_hg_low2_3_low2_2_low2_1_tmpup_1_convBlock/bn2: decay:0.900000 epsilon:0.000010 act:relu is_train:False\n",
      "  [TL] Conv2dLayer hg_stack/stage_0_hg/stage_0_hg_low2_3/stage_0_hg_low2_3_low2_2/stage_0_hg_low2_3_low2_2_low2_1/stage_0_hg_low2_3_low2_2_low2_1_tmpup_1/stage_0_hg_low2_3_low2_2_low2_1_tmpup_1_convBlock/conv2: shape:[3, 3, 128, 128.0] strides:[1, 1, 1, 1] pad:SAME act:identity\n",
      "  [TL] BatchNormLayer hg_stack/stage_0_hg/stage_0_hg_low2_3/stage_0_hg_low2_3_low2_2/stage_0_hg_low2_3_low2_2_low2_1/stage_0_hg_low2_3_low2_2_low2_1_tmpup_1/stage_0_hg_low2_3_low2_2_low2_1_tmpup_1_convBlock/bn3: decay:0.900000 epsilon:0.000010 act:relu is_train:False\n",
      "  [TL] Conv2dLayer hg_stack/stage_0_hg/stage_0_hg_low2_3/stage_0_hg_low2_3_low2_2/stage_0_hg_low2_3_low2_2_low2_1/stage_0_hg_low2_3_low2_2_low2_1_tmpup_1/stage_0_hg_low2_3_low2_2_low2_1_tmpup_1_convBlock/conv3: shape:[1, 1, 128, 256] strides:[1, 1, 1, 1] pad:SAME act:identity\n",
      "  [TL] ElementwiseLayer hg_stack/stage_0_hg/stage_0_hg_low2_3/stage_0_hg_low2_3_low2_2/stage_0_hg_low2_3_low2_2_low2_1/stage_0_hg_low2_3_low2_2_low2_1_tmpup_1/stage_0_hg_low2_3_low2_2_low2_1_tmpup_1_add_layer: size:(16, 8, 8, 256) fn:add\n",
      "  [TL] BatchNormLayer hg_stack/stage_0_hg/stage_0_hg_low2_3/stage_0_hg_low2_3_low2_2/stage_0_hg_low2_3_low2_2_low2_1/stage_0_hg_low2_3_low2_2_low2_1_tmplow_1/stage_0_hg_low2_3_low2_2_low2_1_tmplow_1_convBlock/bn1: decay:0.900000 epsilon:0.000010 act:relu is_train:False\n",
      "  [TL] Conv2dLayer hg_stack/stage_0_hg/stage_0_hg_low2_3/stage_0_hg_low2_3_low2_2/stage_0_hg_low2_3_low2_2_low2_1/stage_0_hg_low2_3_low2_2_low2_1_tmplow_1/stage_0_hg_low2_3_low2_2_low2_1_tmplow_1_convBlock/conv1: shape:[1, 1, 256, 128.0] strides:[1, 1, 1, 1] pad:SAME act:identity\n",
      "  [TL] BatchNormLayer hg_stack/stage_0_hg/stage_0_hg_low2_3/stage_0_hg_low2_3_low2_2/stage_0_hg_low2_3_low2_2_low2_1/stage_0_hg_low2_3_low2_2_low2_1_tmplow_1/stage_0_hg_low2_3_low2_2_low2_1_tmplow_1_convBlock/bn2: decay:0.900000 epsilon:0.000010 act:relu is_train:False\n",
      "  [TL] Conv2dLayer hg_stack/stage_0_hg/stage_0_hg_low2_3/stage_0_hg_low2_3_low2_2/stage_0_hg_low2_3_low2_2_low2_1/stage_0_hg_low2_3_low2_2_low2_1_tmplow_1/stage_0_hg_low2_3_low2_2_low2_1_tmplow_1_convBlock/conv2: shape:[3, 3, 128, 128.0] strides:[1, 1, 1, 1] pad:SAME act:identity\n",
      "  [TL] BatchNormLayer hg_stack/stage_0_hg/stage_0_hg_low2_3/stage_0_hg_low2_3_low2_2/stage_0_hg_low2_3_low2_2_low2_1/stage_0_hg_low2_3_low2_2_low2_1_tmplow_1/stage_0_hg_low2_3_low2_2_low2_1_tmplow_1_convBlock/bn3: decay:0.900000 epsilon:0.000010 act:relu is_train:False\n",
      "  [TL] Conv2dLayer hg_stack/stage_0_hg/stage_0_hg_low2_3/stage_0_hg_low2_3_low2_2/stage_0_hg_low2_3_low2_2_low2_1/stage_0_hg_low2_3_low2_2_low2_1_tmplow_1/stage_0_hg_low2_3_low2_2_low2_1_tmplow_1_convBlock/conv3: shape:[1, 1, 128, 256] strides:[1, 1, 1, 1] pad:SAME act:identity\n",
      "  [TL] ElementwiseLayer hg_stack/stage_0_hg/stage_0_hg_low2_3/stage_0_hg_low2_3_low2_2/stage_0_hg_low2_3_low2_2_low2_1/stage_0_hg_low2_3_low2_2_low2_1_tmplow_1/stage_0_hg_low2_3_low2_2_low2_1_tmplow_1_add_layer: size:(16, 4, 4, 256) fn:add\n",
      "  [TL] BatchNormLayer hg_stack/stage_0_hg/stage_0_hg_low2_3/stage_0_hg_low2_3_low2_2/stage_0_hg_low2_3_low2_2_low2_1/stage_0_hg_low2_3_low2_2_low2_1_tmplow2_0/stage_0_hg_low2_3_low2_2_low2_1_tmplow2_0_convBlock/bn1: decay:0.900000 epsilon:0.000010 act:relu is_train:False\n",
      "  [TL] Conv2dLayer hg_stack/stage_0_hg/stage_0_hg_low2_3/stage_0_hg_low2_3_low2_2/stage_0_hg_low2_3_low2_2_low2_1/stage_0_hg_low2_3_low2_2_low2_1_tmplow2_0/stage_0_hg_low2_3_low2_2_low2_1_tmplow2_0_convBlock/conv1: shape:[1, 1, 256, 128.0] strides:[1, 1, 1, 1] pad:SAME act:identity\n",
      "  [TL] BatchNormLayer hg_stack/stage_0_hg/stage_0_hg_low2_3/stage_0_hg_low2_3_low2_2/stage_0_hg_low2_3_low2_2_low2_1/stage_0_hg_low2_3_low2_2_low2_1_tmplow2_0/stage_0_hg_low2_3_low2_2_low2_1_tmplow2_0_convBlock/bn2: decay:0.900000 epsilon:0.000010 act:relu is_train:False\n",
      "  [TL] Conv2dLayer hg_stack/stage_0_hg/stage_0_hg_low2_3/stage_0_hg_low2_3_low2_2/stage_0_hg_low2_3_low2_2_low2_1/stage_0_hg_low2_3_low2_2_low2_1_tmplow2_0/stage_0_hg_low2_3_low2_2_low2_1_tmplow2_0_convBlock/conv2: shape:[3, 3, 128, 128.0] strides:[1, 1, 1, 1] pad:SAME act:identity\n",
      "  [TL] BatchNormLayer hg_stack/stage_0_hg/stage_0_hg_low2_3/stage_0_hg_low2_3_low2_2/stage_0_hg_low2_3_low2_2_low2_1/stage_0_hg_low2_3_low2_2_low2_1_tmplow2_0/stage_0_hg_low2_3_low2_2_low2_1_tmplow2_0_convBlock/bn3: decay:0.900000 epsilon:0.000010 act:relu is_train:False\n",
      "  [TL] Conv2dLayer hg_stack/stage_0_hg/stage_0_hg_low2_3/stage_0_hg_low2_3_low2_2/stage_0_hg_low2_3_low2_2_low2_1/stage_0_hg_low2_3_low2_2_low2_1_tmplow2_0/stage_0_hg_low2_3_low2_2_low2_1_tmplow2_0_convBlock/conv3: shape:[1, 1, 128, 256] strides:[1, 1, 1, 1] pad:SAME act:identity\n",
      "  [TL] ElementwiseLayer hg_stack/stage_0_hg/stage_0_hg_low2_3/stage_0_hg_low2_3_low2_2/stage_0_hg_low2_3_low2_2_low2_1/stage_0_hg_low2_3_low2_2_low2_1_tmplow2_0/stage_0_hg_low2_3_low2_2_low2_1_tmplow2_0_add_layer: size:(16, 4, 4, 256) fn:add\n",
      "  [TL] BatchNormLayer hg_stack/stage_0_hg/stage_0_hg_low2_3/stage_0_hg_low2_3_low2_2/stage_0_hg_low2_3_low2_2_low2_1/stage_0_hg_low2_3_low2_2_low2_1_tmplow2_1/stage_0_hg_low2_3_low2_2_low2_1_tmplow2_1_convBlock/bn1: decay:0.900000 epsilon:0.000010 act:relu is_train:False\n",
      "  [TL] Conv2dLayer hg_stack/stage_0_hg/stage_0_hg_low2_3/stage_0_hg_low2_3_low2_2/stage_0_hg_low2_3_low2_2_low2_1/stage_0_hg_low2_3_low2_2_low2_1_tmplow2_1/stage_0_hg_low2_3_low2_2_low2_1_tmplow2_1_convBlock/conv1: shape:[1, 1, 256, 128.0] strides:[1, 1, 1, 1] pad:SAME act:identity\n",
      "  [TL] BatchNormLayer hg_stack/stage_0_hg/stage_0_hg_low2_3/stage_0_hg_low2_3_low2_2/stage_0_hg_low2_3_low2_2_low2_1/stage_0_hg_low2_3_low2_2_low2_1_tmplow2_1/stage_0_hg_low2_3_low2_2_low2_1_tmplow2_1_convBlock/bn2: decay:0.900000 epsilon:0.000010 act:relu is_train:False\n",
      "  [TL] Conv2dLayer hg_stack/stage_0_hg/stage_0_hg_low2_3/stage_0_hg_low2_3_low2_2/stage_0_hg_low2_3_low2_2_low2_1/stage_0_hg_low2_3_low2_2_low2_1_tmplow2_1/stage_0_hg_low2_3_low2_2_low2_1_tmplow2_1_convBlock/conv2: shape:[3, 3, 128, 128.0] strides:[1, 1, 1, 1] pad:SAME act:identity\n",
      "  [TL] BatchNormLayer hg_stack/stage_0_hg/stage_0_hg_low2_3/stage_0_hg_low2_3_low2_2/stage_0_hg_low2_3_low2_2_low2_1/stage_0_hg_low2_3_low2_2_low2_1_tmplow2_1/stage_0_hg_low2_3_low2_2_low2_1_tmplow2_1_convBlock/bn3: decay:0.900000 epsilon:0.000010 act:relu is_train:False\n"
     ]
    },
    {
     "name": "stdout",
     "output_type": "stream",
     "text": [
      "  [TL] Conv2dLayer hg_stack/stage_0_hg/stage_0_hg_low2_3/stage_0_hg_low2_3_low2_2/stage_0_hg_low2_3_low2_2_low2_1/stage_0_hg_low2_3_low2_2_low2_1_tmplow2_1/stage_0_hg_low2_3_low2_2_low2_1_tmplow2_1_convBlock/conv3: shape:[1, 1, 128, 256] strides:[1, 1, 1, 1] pad:SAME act:identity\n",
      "  [TL] ElementwiseLayer hg_stack/stage_0_hg/stage_0_hg_low2_3/stage_0_hg_low2_3_low2_2/stage_0_hg_low2_3_low2_2_low2_1/stage_0_hg_low2_3_low2_2_low2_1_tmplow2_1/stage_0_hg_low2_3_low2_2_low2_1_tmplow2_1_add_layer: size:(16, 4, 4, 256) fn:add\n",
      "  [TL] BatchNormLayer hg_stack/stage_0_hg/stage_0_hg_low2_3/stage_0_hg_low2_3_low2_2/stage_0_hg_low2_3_low2_2_low2_1/stage_0_hg_low2_3_low2_2_low2_1_tmplow3_0/stage_0_hg_low2_3_low2_2_low2_1_tmplow3_0_convBlock/bn1: decay:0.900000 epsilon:0.000010 act:relu is_train:False\n",
      "  [TL] Conv2dLayer hg_stack/stage_0_hg/stage_0_hg_low2_3/stage_0_hg_low2_3_low2_2/stage_0_hg_low2_3_low2_2_low2_1/stage_0_hg_low2_3_low2_2_low2_1_tmplow3_0/stage_0_hg_low2_3_low2_2_low2_1_tmplow3_0_convBlock/conv1: shape:[1, 1, 256, 128.0] strides:[1, 1, 1, 1] pad:SAME act:identity\n",
      "  [TL] BatchNormLayer hg_stack/stage_0_hg/stage_0_hg_low2_3/stage_0_hg_low2_3_low2_2/stage_0_hg_low2_3_low2_2_low2_1/stage_0_hg_low2_3_low2_2_low2_1_tmplow3_0/stage_0_hg_low2_3_low2_2_low2_1_tmplow3_0_convBlock/bn2: decay:0.900000 epsilon:0.000010 act:relu is_train:False\n",
      "  [TL] Conv2dLayer hg_stack/stage_0_hg/stage_0_hg_low2_3/stage_0_hg_low2_3_low2_2/stage_0_hg_low2_3_low2_2_low2_1/stage_0_hg_low2_3_low2_2_low2_1_tmplow3_0/stage_0_hg_low2_3_low2_2_low2_1_tmplow3_0_convBlock/conv2: shape:[3, 3, 128, 128.0] strides:[1, 1, 1, 1] pad:SAME act:identity\n",
      "  [TL] BatchNormLayer hg_stack/stage_0_hg/stage_0_hg_low2_3/stage_0_hg_low2_3_low2_2/stage_0_hg_low2_3_low2_2_low2_1/stage_0_hg_low2_3_low2_2_low2_1_tmplow3_0/stage_0_hg_low2_3_low2_2_low2_1_tmplow3_0_convBlock/bn3: decay:0.900000 epsilon:0.000010 act:relu is_train:False\n",
      "  [TL] Conv2dLayer hg_stack/stage_0_hg/stage_0_hg_low2_3/stage_0_hg_low2_3_low2_2/stage_0_hg_low2_3_low2_2_low2_1/stage_0_hg_low2_3_low2_2_low2_1_tmplow3_0/stage_0_hg_low2_3_low2_2_low2_1_tmplow3_0_convBlock/conv3: shape:[1, 1, 128, 256] strides:[1, 1, 1, 1] pad:SAME act:identity\n",
      "  [TL] ElementwiseLayer hg_stack/stage_0_hg/stage_0_hg_low2_3/stage_0_hg_low2_3_low2_2/stage_0_hg_low2_3_low2_2_low2_1/stage_0_hg_low2_3_low2_2_low2_1_tmplow3_0/stage_0_hg_low2_3_low2_2_low2_1_tmplow3_0_add_layer: size:(16, 4, 4, 256) fn:add\n",
      "  [TL] BatchNormLayer hg_stack/stage_0_hg/stage_0_hg_low2_3/stage_0_hg_low2_3_low2_2/stage_0_hg_low2_3_low2_2_low2_1/stage_0_hg_low2_3_low2_2_low2_1_tmplow3_1/stage_0_hg_low2_3_low2_2_low2_1_tmplow3_1_convBlock/bn1: decay:0.900000 epsilon:0.000010 act:relu is_train:False\n",
      "  [TL] Conv2dLayer hg_stack/stage_0_hg/stage_0_hg_low2_3/stage_0_hg_low2_3_low2_2/stage_0_hg_low2_3_low2_2_low2_1/stage_0_hg_low2_3_low2_2_low2_1_tmplow3_1/stage_0_hg_low2_3_low2_2_low2_1_tmplow3_1_convBlock/conv1: shape:[1, 1, 256, 128.0] strides:[1, 1, 1, 1] pad:SAME act:identity\n",
      "  [TL] BatchNormLayer hg_stack/stage_0_hg/stage_0_hg_low2_3/stage_0_hg_low2_3_low2_2/stage_0_hg_low2_3_low2_2_low2_1/stage_0_hg_low2_3_low2_2_low2_1_tmplow3_1/stage_0_hg_low2_3_low2_2_low2_1_tmplow3_1_convBlock/bn2: decay:0.900000 epsilon:0.000010 act:relu is_train:False\n",
      "  [TL] Conv2dLayer hg_stack/stage_0_hg/stage_0_hg_low2_3/stage_0_hg_low2_3_low2_2/stage_0_hg_low2_3_low2_2_low2_1/stage_0_hg_low2_3_low2_2_low2_1_tmplow3_1/stage_0_hg_low2_3_low2_2_low2_1_tmplow3_1_convBlock/conv2: shape:[3, 3, 128, 128.0] strides:[1, 1, 1, 1] pad:SAME act:identity\n",
      "  [TL] BatchNormLayer hg_stack/stage_0_hg/stage_0_hg_low2_3/stage_0_hg_low2_3_low2_2/stage_0_hg_low2_3_low2_2_low2_1/stage_0_hg_low2_3_low2_2_low2_1_tmplow3_1/stage_0_hg_low2_3_low2_2_low2_1_tmplow3_1_convBlock/bn3: decay:0.900000 epsilon:0.000010 act:relu is_train:False\n",
      "  [TL] Conv2dLayer hg_stack/stage_0_hg/stage_0_hg_low2_3/stage_0_hg_low2_3_low2_2/stage_0_hg_low2_3_low2_2_low2_1/stage_0_hg_low2_3_low2_2_low2_1_tmplow3_1/stage_0_hg_low2_3_low2_2_low2_1_tmplow3_1_convBlock/conv3: shape:[1, 1, 128, 256] strides:[1, 1, 1, 1] pad:SAME act:identity\n",
      "  [TL] ElementwiseLayer hg_stack/stage_0_hg/stage_0_hg_low2_3/stage_0_hg_low2_3_low2_2/stage_0_hg_low2_3_low2_2_low2_1/stage_0_hg_low2_3_low2_2_low2_1_tmplow3_1/stage_0_hg_low2_3_low2_2_low2_1_tmplow3_1_add_layer: size:(16, 4, 4, 256) fn:add\n",
      "  [TL] UpSampling2dLayer stage_0_hg_low2_3_low2_2_low2_1_Upsample: is_scale:True size:[8, 8] method:1 align_corners:False\n",
      "  [TL] ElementwiseLayer hg_stack/stage_0_hg/stage_0_hg_low2_3/stage_0_hg_low2_3_low2_2/stage_0_hg_low2_3_low2_2_low2_1/stage_0_hg_low2_3_low2_2_low2_1_add_layer: size:(16, 8, 8, 256) fn:add\n",
      "  [TL] BatchNormLayer hg_stack/stage_0_hg/stage_0_hg_low2_3/stage_0_hg_low2_3_low2_2/stage_0_hg_low2_3_low2_2_tmplow3_0/stage_0_hg_low2_3_low2_2_tmplow3_0_convBlock/bn1: decay:0.900000 epsilon:0.000010 act:relu is_train:False\n",
      "  [TL] Conv2dLayer hg_stack/stage_0_hg/stage_0_hg_low2_3/stage_0_hg_low2_3_low2_2/stage_0_hg_low2_3_low2_2_tmplow3_0/stage_0_hg_low2_3_low2_2_tmplow3_0_convBlock/conv1: shape:[1, 1, 256, 128.0] strides:[1, 1, 1, 1] pad:SAME act:identity\n",
      "  [TL] BatchNormLayer hg_stack/stage_0_hg/stage_0_hg_low2_3/stage_0_hg_low2_3_low2_2/stage_0_hg_low2_3_low2_2_tmplow3_0/stage_0_hg_low2_3_low2_2_tmplow3_0_convBlock/bn2: decay:0.900000 epsilon:0.000010 act:relu is_train:False\n",
      "  [TL] Conv2dLayer hg_stack/stage_0_hg/stage_0_hg_low2_3/stage_0_hg_low2_3_low2_2/stage_0_hg_low2_3_low2_2_tmplow3_0/stage_0_hg_low2_3_low2_2_tmplow3_0_convBlock/conv2: shape:[3, 3, 128, 128.0] strides:[1, 1, 1, 1] pad:SAME act:identity\n",
      "  [TL] BatchNormLayer hg_stack/stage_0_hg/stage_0_hg_low2_3/stage_0_hg_low2_3_low2_2/stage_0_hg_low2_3_low2_2_tmplow3_0/stage_0_hg_low2_3_low2_2_tmplow3_0_convBlock/bn3: decay:0.900000 epsilon:0.000010 act:relu is_train:False\n",
      "  [TL] Conv2dLayer hg_stack/stage_0_hg/stage_0_hg_low2_3/stage_0_hg_low2_3_low2_2/stage_0_hg_low2_3_low2_2_tmplow3_0/stage_0_hg_low2_3_low2_2_tmplow3_0_convBlock/conv3: shape:[1, 1, 128, 256] strides:[1, 1, 1, 1] pad:SAME act:identity\n",
      "  [TL] ElementwiseLayer hg_stack/stage_0_hg/stage_0_hg_low2_3/stage_0_hg_low2_3_low2_2/stage_0_hg_low2_3_low2_2_tmplow3_0/stage_0_hg_low2_3_low2_2_tmplow3_0_add_layer: size:(16, 8, 8, 256) fn:add\n",
      "  [TL] BatchNormLayer hg_stack/stage_0_hg/stage_0_hg_low2_3/stage_0_hg_low2_3_low2_2/stage_0_hg_low2_3_low2_2_tmplow3_1/stage_0_hg_low2_3_low2_2_tmplow3_1_convBlock/bn1: decay:0.900000 epsilon:0.000010 act:relu is_train:False\n",
      "  [TL] Conv2dLayer hg_stack/stage_0_hg/stage_0_hg_low2_3/stage_0_hg_low2_3_low2_2/stage_0_hg_low2_3_low2_2_tmplow3_1/stage_0_hg_low2_3_low2_2_tmplow3_1_convBlock/conv1: shape:[1, 1, 256, 128.0] strides:[1, 1, 1, 1] pad:SAME act:identity\n",
      "  [TL] BatchNormLayer hg_stack/stage_0_hg/stage_0_hg_low2_3/stage_0_hg_low2_3_low2_2/stage_0_hg_low2_3_low2_2_tmplow3_1/stage_0_hg_low2_3_low2_2_tmplow3_1_convBlock/bn2: decay:0.900000 epsilon:0.000010 act:relu is_train:False\n",
      "  [TL] Conv2dLayer hg_stack/stage_0_hg/stage_0_hg_low2_3/stage_0_hg_low2_3_low2_2/stage_0_hg_low2_3_low2_2_tmplow3_1/stage_0_hg_low2_3_low2_2_tmplow3_1_convBlock/conv2: shape:[3, 3, 128, 128.0] strides:[1, 1, 1, 1] pad:SAME act:identity\n",
      "  [TL] BatchNormLayer hg_stack/stage_0_hg/stage_0_hg_low2_3/stage_0_hg_low2_3_low2_2/stage_0_hg_low2_3_low2_2_tmplow3_1/stage_0_hg_low2_3_low2_2_tmplow3_1_convBlock/bn3: decay:0.900000 epsilon:0.000010 act:relu is_train:False\n",
      "  [TL] Conv2dLayer hg_stack/stage_0_hg/stage_0_hg_low2_3/stage_0_hg_low2_3_low2_2/stage_0_hg_low2_3_low2_2_tmplow3_1/stage_0_hg_low2_3_low2_2_tmplow3_1_convBlock/conv3: shape:[1, 1, 128, 256] strides:[1, 1, 1, 1] pad:SAME act:identity\n",
      "  [TL] ElementwiseLayer hg_stack/stage_0_hg/stage_0_hg_low2_3/stage_0_hg_low2_3_low2_2/stage_0_hg_low2_3_low2_2_tmplow3_1/stage_0_hg_low2_3_low2_2_tmplow3_1_add_layer: size:(16, 8, 8, 256) fn:add\n",
      "  [TL] UpSampling2dLayer stage_0_hg_low2_3_low2_2_Upsample: is_scale:True size:[16, 16] method:1 align_corners:False\n",
      "  [TL] ElementwiseLayer hg_stack/stage_0_hg/stage_0_hg_low2_3/stage_0_hg_low2_3_low2_2/stage_0_hg_low2_3_low2_2_add_layer: size:(16, 16, 16, 256) fn:add\n",
      "  [TL] BatchNormLayer hg_stack/stage_0_hg/stage_0_hg_low2_3/stage_0_hg_low2_3_tmplow3_0/stage_0_hg_low2_3_tmplow3_0_convBlock/bn1: decay:0.900000 epsilon:0.000010 act:relu is_train:False\n",
      "  [TL] Conv2dLayer hg_stack/stage_0_hg/stage_0_hg_low2_3/stage_0_hg_low2_3_tmplow3_0/stage_0_hg_low2_3_tmplow3_0_convBlock/conv1: shape:[1, 1, 256, 128.0] strides:[1, 1, 1, 1] pad:SAME act:identity\n",
      "  [TL] BatchNormLayer hg_stack/stage_0_hg/stage_0_hg_low2_3/stage_0_hg_low2_3_tmplow3_0/stage_0_hg_low2_3_tmplow3_0_convBlock/bn2: decay:0.900000 epsilon:0.000010 act:relu is_train:False\n"
     ]
    },
    {
     "name": "stdout",
     "output_type": "stream",
     "text": [
      "  [TL] Conv2dLayer hg_stack/stage_0_hg/stage_0_hg_low2_3/stage_0_hg_low2_3_tmplow3_0/stage_0_hg_low2_3_tmplow3_0_convBlock/conv2: shape:[3, 3, 128, 128.0] strides:[1, 1, 1, 1] pad:SAME act:identity\n",
      "  [TL] BatchNormLayer hg_stack/stage_0_hg/stage_0_hg_low2_3/stage_0_hg_low2_3_tmplow3_0/stage_0_hg_low2_3_tmplow3_0_convBlock/bn3: decay:0.900000 epsilon:0.000010 act:relu is_train:False\n",
      "  [TL] Conv2dLayer hg_stack/stage_0_hg/stage_0_hg_low2_3/stage_0_hg_low2_3_tmplow3_0/stage_0_hg_low2_3_tmplow3_0_convBlock/conv3: shape:[1, 1, 128, 256] strides:[1, 1, 1, 1] pad:SAME act:identity\n",
      "  [TL] ElementwiseLayer hg_stack/stage_0_hg/stage_0_hg_low2_3/stage_0_hg_low2_3_tmplow3_0/stage_0_hg_low2_3_tmplow3_0_add_layer: size:(16, 16, 16, 256) fn:add\n",
      "  [TL] BatchNormLayer hg_stack/stage_0_hg/stage_0_hg_low2_3/stage_0_hg_low2_3_tmplow3_1/stage_0_hg_low2_3_tmplow3_1_convBlock/bn1: decay:0.900000 epsilon:0.000010 act:relu is_train:False\n",
      "  [TL] Conv2dLayer hg_stack/stage_0_hg/stage_0_hg_low2_3/stage_0_hg_low2_3_tmplow3_1/stage_0_hg_low2_3_tmplow3_1_convBlock/conv1: shape:[1, 1, 256, 128.0] strides:[1, 1, 1, 1] pad:SAME act:identity\n",
      "  [TL] BatchNormLayer hg_stack/stage_0_hg/stage_0_hg_low2_3/stage_0_hg_low2_3_tmplow3_1/stage_0_hg_low2_3_tmplow3_1_convBlock/bn2: decay:0.900000 epsilon:0.000010 act:relu is_train:False\n",
      "  [TL] Conv2dLayer hg_stack/stage_0_hg/stage_0_hg_low2_3/stage_0_hg_low2_3_tmplow3_1/stage_0_hg_low2_3_tmplow3_1_convBlock/conv2: shape:[3, 3, 128, 128.0] strides:[1, 1, 1, 1] pad:SAME act:identity\n",
      "  [TL] BatchNormLayer hg_stack/stage_0_hg/stage_0_hg_low2_3/stage_0_hg_low2_3_tmplow3_1/stage_0_hg_low2_3_tmplow3_1_convBlock/bn3: decay:0.900000 epsilon:0.000010 act:relu is_train:False\n",
      "  [TL] Conv2dLayer hg_stack/stage_0_hg/stage_0_hg_low2_3/stage_0_hg_low2_3_tmplow3_1/stage_0_hg_low2_3_tmplow3_1_convBlock/conv3: shape:[1, 1, 128, 256] strides:[1, 1, 1, 1] pad:SAME act:identity\n",
      "  [TL] ElementwiseLayer hg_stack/stage_0_hg/stage_0_hg_low2_3/stage_0_hg_low2_3_tmplow3_1/stage_0_hg_low2_3_tmplow3_1_add_layer: size:(16, 16, 16, 256) fn:add\n",
      "  [TL] UpSampling2dLayer stage_0_hg_low2_3_Upsample: is_scale:True size:[32, 32] method:1 align_corners:False\n",
      "  [TL] ElementwiseLayer hg_stack/stage_0_hg/stage_0_hg_low2_3/stage_0_hg_low2_3_add_layer: size:(16, 32, 32, 256) fn:add\n",
      "  [TL] BatchNormLayer hg_stack/stage_0_hg/stage_0_hg_tmplow3_0/stage_0_hg_tmplow3_0_convBlock/bn1: decay:0.900000 epsilon:0.000010 act:relu is_train:False\n",
      "  [TL] Conv2dLayer hg_stack/stage_0_hg/stage_0_hg_tmplow3_0/stage_0_hg_tmplow3_0_convBlock/conv1: shape:[1, 1, 256, 128.0] strides:[1, 1, 1, 1] pad:SAME act:identity\n",
      "  [TL] BatchNormLayer hg_stack/stage_0_hg/stage_0_hg_tmplow3_0/stage_0_hg_tmplow3_0_convBlock/bn2: decay:0.900000 epsilon:0.000010 act:relu is_train:False\n",
      "  [TL] Conv2dLayer hg_stack/stage_0_hg/stage_0_hg_tmplow3_0/stage_0_hg_tmplow3_0_convBlock/conv2: shape:[3, 3, 128, 128.0] strides:[1, 1, 1, 1] pad:SAME act:identity\n",
      "  [TL] BatchNormLayer hg_stack/stage_0_hg/stage_0_hg_tmplow3_0/stage_0_hg_tmplow3_0_convBlock/bn3: decay:0.900000 epsilon:0.000010 act:relu is_train:False\n",
      "  [TL] Conv2dLayer hg_stack/stage_0_hg/stage_0_hg_tmplow3_0/stage_0_hg_tmplow3_0_convBlock/conv3: shape:[1, 1, 128, 256] strides:[1, 1, 1, 1] pad:SAME act:identity\n",
      "  [TL] ElementwiseLayer hg_stack/stage_0_hg/stage_0_hg_tmplow3_0/stage_0_hg_tmplow3_0_add_layer: size:(16, 32, 32, 256) fn:add\n",
      "  [TL] BatchNormLayer hg_stack/stage_0_hg/stage_0_hg_tmplow3_1/stage_0_hg_tmplow3_1_convBlock/bn1: decay:0.900000 epsilon:0.000010 act:relu is_train:False\n",
      "  [TL] Conv2dLayer hg_stack/stage_0_hg/stage_0_hg_tmplow3_1/stage_0_hg_tmplow3_1_convBlock/conv1: shape:[1, 1, 256, 128.0] strides:[1, 1, 1, 1] pad:SAME act:identity\n",
      "  [TL] BatchNormLayer hg_stack/stage_0_hg/stage_0_hg_tmplow3_1/stage_0_hg_tmplow3_1_convBlock/bn2: decay:0.900000 epsilon:0.000010 act:relu is_train:False\n",
      "  [TL] Conv2dLayer hg_stack/stage_0_hg/stage_0_hg_tmplow3_1/stage_0_hg_tmplow3_1_convBlock/conv2: shape:[3, 3, 128, 128.0] strides:[1, 1, 1, 1] pad:SAME act:identity\n",
      "  [TL] BatchNormLayer hg_stack/stage_0_hg/stage_0_hg_tmplow3_1/stage_0_hg_tmplow3_1_convBlock/bn3: decay:0.900000 epsilon:0.000010 act:relu is_train:False\n",
      "  [TL] Conv2dLayer hg_stack/stage_0_hg/stage_0_hg_tmplow3_1/stage_0_hg_tmplow3_1_convBlock/conv3: shape:[1, 1, 128, 256] strides:[1, 1, 1, 1] pad:SAME act:identity\n",
      "  [TL] ElementwiseLayer hg_stack/stage_0_hg/stage_0_hg_tmplow3_1/stage_0_hg_tmplow3_1_add_layer: size:(16, 32, 32, 256) fn:add\n",
      "  [TL] UpSampling2dLayer stage_0_hg_Upsample: is_scale:True size:[64, 64] method:1 align_corners:False\n",
      "  [TL] ElementwiseLayer hg_stack/stage_0_hg/stage_0_hg_add_layer: size:(16, 64, 64, 256) fn:add\n",
      "  [TL] BatchNormLayer hg_stack/stage_0tmpres_0/stage_0tmpres_0_convBlock/bn1: decay:0.900000 epsilon:0.000010 act:relu is_train:False\n",
      "  [TL] Conv2dLayer hg_stack/stage_0tmpres_0/stage_0tmpres_0_convBlock/conv1: shape:[1, 1, 256, 128.0] strides:[1, 1, 1, 1] pad:SAME act:identity\n",
      "  [TL] BatchNormLayer hg_stack/stage_0tmpres_0/stage_0tmpres_0_convBlock/bn2: decay:0.900000 epsilon:0.000010 act:relu is_train:False\n",
      "  [TL] Conv2dLayer hg_stack/stage_0tmpres_0/stage_0tmpres_0_convBlock/conv2: shape:[3, 3, 128, 128.0] strides:[1, 1, 1, 1] pad:SAME act:identity\n",
      "  [TL] BatchNormLayer hg_stack/stage_0tmpres_0/stage_0tmpres_0_convBlock/bn3: decay:0.900000 epsilon:0.000010 act:relu is_train:False\n",
      "  [TL] Conv2dLayer hg_stack/stage_0tmpres_0/stage_0tmpres_0_convBlock/conv3: shape:[1, 1, 128, 256] strides:[1, 1, 1, 1] pad:SAME act:identity\n",
      "  [TL] ElementwiseLayer hg_stack/stage_0tmpres_0/stage_0tmpres_0_add_layer: size:(16, 64, 64, 256) fn:add\n",
      "  [TL] BatchNormLayer hg_stack/stage_0tmpres_1/stage_0tmpres_1_convBlock/bn1: decay:0.900000 epsilon:0.000010 act:relu is_train:False\n",
      "  [TL] Conv2dLayer hg_stack/stage_0tmpres_1/stage_0tmpres_1_convBlock/conv1: shape:[1, 1, 256, 128.0] strides:[1, 1, 1, 1] pad:SAME act:identity\n",
      "  [TL] BatchNormLayer hg_stack/stage_0tmpres_1/stage_0tmpres_1_convBlock/bn2: decay:0.900000 epsilon:0.000010 act:relu is_train:False\n",
      "  [TL] Conv2dLayer hg_stack/stage_0tmpres_1/stage_0tmpres_1_convBlock/conv2: shape:[3, 3, 128, 128.0] strides:[1, 1, 1, 1] pad:SAME act:identity\n",
      "  [TL] BatchNormLayer hg_stack/stage_0tmpres_1/stage_0tmpres_1_convBlock/bn3: decay:0.900000 epsilon:0.000010 act:relu is_train:False\n",
      "  [TL] Conv2dLayer hg_stack/stage_0tmpres_1/stage_0tmpres_1_convBlock/conv3: shape:[1, 1, 128, 256] strides:[1, 1, 1, 1] pad:SAME act:identity\n",
      "  [TL] ElementwiseLayer hg_stack/stage_0tmpres_1/stage_0tmpres_1_add_layer: size:(16, 64, 64, 256) fn:add\n",
      "  [TL] Conv2dLayer hg_stack/stage_0_lin1/conv1: shape:[1, 1, 256, 256] strides:[1, 1, 1, 1] pad:SAME act:identity\n",
      "  [TL] BatchNormLayer hg_stack/stage_0_lin1/bn1: decay:0.900000 epsilon:0.000010 act:relu is_train:False\n",
      "  [TL] Conv2dLayer hg_stack/stage_0_out: shape:[1, 1, 256, 14] strides:[1, 1, 1, 1] pad:SAME act:identity\n",
      "  [TL] Conv2dLayer hg_stack/stage_0_conv1: shape:[1, 1, 256, 256] strides:[1, 1, 1, 1] pad:SAME act:identity\n",
      "  [TL] Conv2dLayer hg_stack/stage_0_conv2: shape:[1, 1, 256, 256] strides:[1, 1, 1, 1] pad:SAME act:identity\n",
      "  [TL] ElementwiseLayer hg_stack/stage_0_add_n: size:(16, 64, 64, 256) fn:add\n",
      "  [TL] PoolLayer   hg_stack/stage_1/stage_1_hg/pool1: ksize:[1, 2, 2, 1] strides:[1, 2, 2, 1] padding:SAME pool:max_pool\n",
      "  [TL] BatchNormLayer hg_stack/stage_1/stage_1_hg/stage_1_hg_tmpup_0/stage_1_hg_tmpup_0_convBlock/bn1: decay:0.900000 epsilon:0.000010 act:relu is_train:False\n",
      "  [TL] Conv2dLayer hg_stack/stage_1/stage_1_hg/stage_1_hg_tmpup_0/stage_1_hg_tmpup_0_convBlock/conv1: shape:[1, 1, 256, 128.0] strides:[1, 1, 1, 1] pad:SAME act:identity\n",
      "  [TL] BatchNormLayer hg_stack/stage_1/stage_1_hg/stage_1_hg_tmpup_0/stage_1_hg_tmpup_0_convBlock/bn2: decay:0.900000 epsilon:0.000010 act:relu is_train:False\n",
      "  [TL] Conv2dLayer hg_stack/stage_1/stage_1_hg/stage_1_hg_tmpup_0/stage_1_hg_tmpup_0_convBlock/conv2: shape:[3, 3, 128, 128.0] strides:[1, 1, 1, 1] pad:SAME act:identity\n",
      "  [TL] BatchNormLayer hg_stack/stage_1/stage_1_hg/stage_1_hg_tmpup_0/stage_1_hg_tmpup_0_convBlock/bn3: decay:0.900000 epsilon:0.000010 act:relu is_train:False\n",
      "  [TL] Conv2dLayer hg_stack/stage_1/stage_1_hg/stage_1_hg_tmpup_0/stage_1_hg_tmpup_0_convBlock/conv3: shape:[1, 1, 128, 256] strides:[1, 1, 1, 1] pad:SAME act:identity\n",
      "  [TL] ElementwiseLayer hg_stack/stage_1/stage_1_hg/stage_1_hg_tmpup_0/stage_1_hg_tmpup_0_add_layer: size:(16, 64, 64, 256) fn:add\n",
      "  [TL] BatchNormLayer hg_stack/stage_1/stage_1_hg/stage_1_hg_tmplow_0/stage_1_hg_tmplow_0_convBlock/bn1: decay:0.900000 epsilon:0.000010 act:relu is_train:False\n",
      "  [TL] Conv2dLayer hg_stack/stage_1/stage_1_hg/stage_1_hg_tmplow_0/stage_1_hg_tmplow_0_convBlock/conv1: shape:[1, 1, 256, 128.0] strides:[1, 1, 1, 1] pad:SAME act:identity\n",
      "  [TL] BatchNormLayer hg_stack/stage_1/stage_1_hg/stage_1_hg_tmplow_0/stage_1_hg_tmplow_0_convBlock/bn2: decay:0.900000 epsilon:0.000010 act:relu is_train:False\n"
     ]
    },
    {
     "name": "stdout",
     "output_type": "stream",
     "text": [
      "  [TL] Conv2dLayer hg_stack/stage_1/stage_1_hg/stage_1_hg_tmplow_0/stage_1_hg_tmplow_0_convBlock/conv2: shape:[3, 3, 128, 128.0] strides:[1, 1, 1, 1] pad:SAME act:identity\n",
      "  [TL] BatchNormLayer hg_stack/stage_1/stage_1_hg/stage_1_hg_tmplow_0/stage_1_hg_tmplow_0_convBlock/bn3: decay:0.900000 epsilon:0.000010 act:relu is_train:False\n",
      "  [TL] Conv2dLayer hg_stack/stage_1/stage_1_hg/stage_1_hg_tmplow_0/stage_1_hg_tmplow_0_convBlock/conv3: shape:[1, 1, 128, 256] strides:[1, 1, 1, 1] pad:SAME act:identity\n",
      "  [TL] ElementwiseLayer hg_stack/stage_1/stage_1_hg/stage_1_hg_tmplow_0/stage_1_hg_tmplow_0_add_layer: size:(16, 32, 32, 256) fn:add\n",
      "  [TL] BatchNormLayer hg_stack/stage_1/stage_1_hg/stage_1_hg_tmpup_1/stage_1_hg_tmpup_1_convBlock/bn1: decay:0.900000 epsilon:0.000010 act:relu is_train:False\n",
      "  [TL] Conv2dLayer hg_stack/stage_1/stage_1_hg/stage_1_hg_tmpup_1/stage_1_hg_tmpup_1_convBlock/conv1: shape:[1, 1, 256, 128.0] strides:[1, 1, 1, 1] pad:SAME act:identity\n",
      "  [TL] BatchNormLayer hg_stack/stage_1/stage_1_hg/stage_1_hg_tmpup_1/stage_1_hg_tmpup_1_convBlock/bn2: decay:0.900000 epsilon:0.000010 act:relu is_train:False\n",
      "  [TL] Conv2dLayer hg_stack/stage_1/stage_1_hg/stage_1_hg_tmpup_1/stage_1_hg_tmpup_1_convBlock/conv2: shape:[3, 3, 128, 128.0] strides:[1, 1, 1, 1] pad:SAME act:identity\n",
      "  [TL] BatchNormLayer hg_stack/stage_1/stage_1_hg/stage_1_hg_tmpup_1/stage_1_hg_tmpup_1_convBlock/bn3: decay:0.900000 epsilon:0.000010 act:relu is_train:False\n",
      "  [TL] Conv2dLayer hg_stack/stage_1/stage_1_hg/stage_1_hg_tmpup_1/stage_1_hg_tmpup_1_convBlock/conv3: shape:[1, 1, 128, 256] strides:[1, 1, 1, 1] pad:SAME act:identity\n",
      "  [TL] ElementwiseLayer hg_stack/stage_1/stage_1_hg/stage_1_hg_tmpup_1/stage_1_hg_tmpup_1_add_layer: size:(16, 64, 64, 256) fn:add\n",
      "  [TL] BatchNormLayer hg_stack/stage_1/stage_1_hg/stage_1_hg_tmplow_1/stage_1_hg_tmplow_1_convBlock/bn1: decay:0.900000 epsilon:0.000010 act:relu is_train:False\n",
      "  [TL] Conv2dLayer hg_stack/stage_1/stage_1_hg/stage_1_hg_tmplow_1/stage_1_hg_tmplow_1_convBlock/conv1: shape:[1, 1, 256, 128.0] strides:[1, 1, 1, 1] pad:SAME act:identity\n",
      "  [TL] BatchNormLayer hg_stack/stage_1/stage_1_hg/stage_1_hg_tmplow_1/stage_1_hg_tmplow_1_convBlock/bn2: decay:0.900000 epsilon:0.000010 act:relu is_train:False\n",
      "  [TL] Conv2dLayer hg_stack/stage_1/stage_1_hg/stage_1_hg_tmplow_1/stage_1_hg_tmplow_1_convBlock/conv2: shape:[3, 3, 128, 128.0] strides:[1, 1, 1, 1] pad:SAME act:identity\n",
      "  [TL] BatchNormLayer hg_stack/stage_1/stage_1_hg/stage_1_hg_tmplow_1/stage_1_hg_tmplow_1_convBlock/bn3: decay:0.900000 epsilon:0.000010 act:relu is_train:False\n",
      "  [TL] Conv2dLayer hg_stack/stage_1/stage_1_hg/stage_1_hg_tmplow_1/stage_1_hg_tmplow_1_convBlock/conv3: shape:[1, 1, 128, 256] strides:[1, 1, 1, 1] pad:SAME act:identity\n",
      "  [TL] ElementwiseLayer hg_stack/stage_1/stage_1_hg/stage_1_hg_tmplow_1/stage_1_hg_tmplow_1_add_layer: size:(16, 32, 32, 256) fn:add\n",
      "  [TL] PoolLayer   hg_stack/stage_1/stage_1_hg/stage_1_hg_low2_3/pool1: ksize:[1, 2, 2, 1] strides:[1, 2, 2, 1] padding:SAME pool:max_pool\n",
      "  [TL] BatchNormLayer hg_stack/stage_1/stage_1_hg/stage_1_hg_low2_3/stage_1_hg_low2_3_tmpup_0/stage_1_hg_low2_3_tmpup_0_convBlock/bn1: decay:0.900000 epsilon:0.000010 act:relu is_train:False\n",
      "  [TL] Conv2dLayer hg_stack/stage_1/stage_1_hg/stage_1_hg_low2_3/stage_1_hg_low2_3_tmpup_0/stage_1_hg_low2_3_tmpup_0_convBlock/conv1: shape:[1, 1, 256, 128.0] strides:[1, 1, 1, 1] pad:SAME act:identity\n",
      "  [TL] BatchNormLayer hg_stack/stage_1/stage_1_hg/stage_1_hg_low2_3/stage_1_hg_low2_3_tmpup_0/stage_1_hg_low2_3_tmpup_0_convBlock/bn2: decay:0.900000 epsilon:0.000010 act:relu is_train:False\n",
      "  [TL] Conv2dLayer hg_stack/stage_1/stage_1_hg/stage_1_hg_low2_3/stage_1_hg_low2_3_tmpup_0/stage_1_hg_low2_3_tmpup_0_convBlock/conv2: shape:[3, 3, 128, 128.0] strides:[1, 1, 1, 1] pad:SAME act:identity\n",
      "  [TL] BatchNormLayer hg_stack/stage_1/stage_1_hg/stage_1_hg_low2_3/stage_1_hg_low2_3_tmpup_0/stage_1_hg_low2_3_tmpup_0_convBlock/bn3: decay:0.900000 epsilon:0.000010 act:relu is_train:False\n",
      "  [TL] Conv2dLayer hg_stack/stage_1/stage_1_hg/stage_1_hg_low2_3/stage_1_hg_low2_3_tmpup_0/stage_1_hg_low2_3_tmpup_0_convBlock/conv3: shape:[1, 1, 128, 256] strides:[1, 1, 1, 1] pad:SAME act:identity\n",
      "  [TL] ElementwiseLayer hg_stack/stage_1/stage_1_hg/stage_1_hg_low2_3/stage_1_hg_low2_3_tmpup_0/stage_1_hg_low2_3_tmpup_0_add_layer: size:(16, 32, 32, 256) fn:add\n",
      "  [TL] BatchNormLayer hg_stack/stage_1/stage_1_hg/stage_1_hg_low2_3/stage_1_hg_low2_3_tmplow_0/stage_1_hg_low2_3_tmplow_0_convBlock/bn1: decay:0.900000 epsilon:0.000010 act:relu is_train:False\n",
      "  [TL] Conv2dLayer hg_stack/stage_1/stage_1_hg/stage_1_hg_low2_3/stage_1_hg_low2_3_tmplow_0/stage_1_hg_low2_3_tmplow_0_convBlock/conv1: shape:[1, 1, 256, 128.0] strides:[1, 1, 1, 1] pad:SAME act:identity\n",
      "  [TL] BatchNormLayer hg_stack/stage_1/stage_1_hg/stage_1_hg_low2_3/stage_1_hg_low2_3_tmplow_0/stage_1_hg_low2_3_tmplow_0_convBlock/bn2: decay:0.900000 epsilon:0.000010 act:relu is_train:False\n",
      "  [TL] Conv2dLayer hg_stack/stage_1/stage_1_hg/stage_1_hg_low2_3/stage_1_hg_low2_3_tmplow_0/stage_1_hg_low2_3_tmplow_0_convBlock/conv2: shape:[3, 3, 128, 128.0] strides:[1, 1, 1, 1] pad:SAME act:identity\n",
      "  [TL] BatchNormLayer hg_stack/stage_1/stage_1_hg/stage_1_hg_low2_3/stage_1_hg_low2_3_tmplow_0/stage_1_hg_low2_3_tmplow_0_convBlock/bn3: decay:0.900000 epsilon:0.000010 act:relu is_train:False\n",
      "  [TL] Conv2dLayer hg_stack/stage_1/stage_1_hg/stage_1_hg_low2_3/stage_1_hg_low2_3_tmplow_0/stage_1_hg_low2_3_tmplow_0_convBlock/conv3: shape:[1, 1, 128, 256] strides:[1, 1, 1, 1] pad:SAME act:identity\n",
      "  [TL] ElementwiseLayer hg_stack/stage_1/stage_1_hg/stage_1_hg_low2_3/stage_1_hg_low2_3_tmplow_0/stage_1_hg_low2_3_tmplow_0_add_layer: size:(16, 16, 16, 256) fn:add\n",
      "  [TL] BatchNormLayer hg_stack/stage_1/stage_1_hg/stage_1_hg_low2_3/stage_1_hg_low2_3_tmpup_1/stage_1_hg_low2_3_tmpup_1_convBlock/bn1: decay:0.900000 epsilon:0.000010 act:relu is_train:False\n",
      "  [TL] Conv2dLayer hg_stack/stage_1/stage_1_hg/stage_1_hg_low2_3/stage_1_hg_low2_3_tmpup_1/stage_1_hg_low2_3_tmpup_1_convBlock/conv1: shape:[1, 1, 256, 128.0] strides:[1, 1, 1, 1] pad:SAME act:identity\n",
      "  [TL] BatchNormLayer hg_stack/stage_1/stage_1_hg/stage_1_hg_low2_3/stage_1_hg_low2_3_tmpup_1/stage_1_hg_low2_3_tmpup_1_convBlock/bn2: decay:0.900000 epsilon:0.000010 act:relu is_train:False\n",
      "  [TL] Conv2dLayer hg_stack/stage_1/stage_1_hg/stage_1_hg_low2_3/stage_1_hg_low2_3_tmpup_1/stage_1_hg_low2_3_tmpup_1_convBlock/conv2: shape:[3, 3, 128, 128.0] strides:[1, 1, 1, 1] pad:SAME act:identity\n",
      "  [TL] BatchNormLayer hg_stack/stage_1/stage_1_hg/stage_1_hg_low2_3/stage_1_hg_low2_3_tmpup_1/stage_1_hg_low2_3_tmpup_1_convBlock/bn3: decay:0.900000 epsilon:0.000010 act:relu is_train:False\n",
      "  [TL] Conv2dLayer hg_stack/stage_1/stage_1_hg/stage_1_hg_low2_3/stage_1_hg_low2_3_tmpup_1/stage_1_hg_low2_3_tmpup_1_convBlock/conv3: shape:[1, 1, 128, 256] strides:[1, 1, 1, 1] pad:SAME act:identity\n",
      "  [TL] ElementwiseLayer hg_stack/stage_1/stage_1_hg/stage_1_hg_low2_3/stage_1_hg_low2_3_tmpup_1/stage_1_hg_low2_3_tmpup_1_add_layer: size:(16, 32, 32, 256) fn:add\n",
      "  [TL] BatchNormLayer hg_stack/stage_1/stage_1_hg/stage_1_hg_low2_3/stage_1_hg_low2_3_tmplow_1/stage_1_hg_low2_3_tmplow_1_convBlock/bn1: decay:0.900000 epsilon:0.000010 act:relu is_train:False\n",
      "  [TL] Conv2dLayer hg_stack/stage_1/stage_1_hg/stage_1_hg_low2_3/stage_1_hg_low2_3_tmplow_1/stage_1_hg_low2_3_tmplow_1_convBlock/conv1: shape:[1, 1, 256, 128.0] strides:[1, 1, 1, 1] pad:SAME act:identity\n",
      "  [TL] BatchNormLayer hg_stack/stage_1/stage_1_hg/stage_1_hg_low2_3/stage_1_hg_low2_3_tmplow_1/stage_1_hg_low2_3_tmplow_1_convBlock/bn2: decay:0.900000 epsilon:0.000010 act:relu is_train:False\n",
      "  [TL] Conv2dLayer hg_stack/stage_1/stage_1_hg/stage_1_hg_low2_3/stage_1_hg_low2_3_tmplow_1/stage_1_hg_low2_3_tmplow_1_convBlock/conv2: shape:[3, 3, 128, 128.0] strides:[1, 1, 1, 1] pad:SAME act:identity\n",
      "  [TL] BatchNormLayer hg_stack/stage_1/stage_1_hg/stage_1_hg_low2_3/stage_1_hg_low2_3_tmplow_1/stage_1_hg_low2_3_tmplow_1_convBlock/bn3: decay:0.900000 epsilon:0.000010 act:relu is_train:False\n",
      "  [TL] Conv2dLayer hg_stack/stage_1/stage_1_hg/stage_1_hg_low2_3/stage_1_hg_low2_3_tmplow_1/stage_1_hg_low2_3_tmplow_1_convBlock/conv3: shape:[1, 1, 128, 256] strides:[1, 1, 1, 1] pad:SAME act:identity\n",
      "  [TL] ElementwiseLayer hg_stack/stage_1/stage_1_hg/stage_1_hg_low2_3/stage_1_hg_low2_3_tmplow_1/stage_1_hg_low2_3_tmplow_1_add_layer: size:(16, 16, 16, 256) fn:add\n",
      "  [TL] PoolLayer   hg_stack/stage_1/stage_1_hg/stage_1_hg_low2_3/stage_1_hg_low2_3_low2_2/pool1: ksize:[1, 2, 2, 1] strides:[1, 2, 2, 1] padding:SAME pool:max_pool\n",
      "  [TL] BatchNormLayer hg_stack/stage_1/stage_1_hg/stage_1_hg_low2_3/stage_1_hg_low2_3_low2_2/stage_1_hg_low2_3_low2_2_tmpup_0/stage_1_hg_low2_3_low2_2_tmpup_0_convBlock/bn1: decay:0.900000 epsilon:0.000010 act:relu is_train:False\n",
      "  [TL] Conv2dLayer hg_stack/stage_1/stage_1_hg/stage_1_hg_low2_3/stage_1_hg_low2_3_low2_2/stage_1_hg_low2_3_low2_2_tmpup_0/stage_1_hg_low2_3_low2_2_tmpup_0_convBlock/conv1: shape:[1, 1, 256, 128.0] strides:[1, 1, 1, 1] pad:SAME act:identity\n",
      "  [TL] BatchNormLayer hg_stack/stage_1/stage_1_hg/stage_1_hg_low2_3/stage_1_hg_low2_3_low2_2/stage_1_hg_low2_3_low2_2_tmpup_0/stage_1_hg_low2_3_low2_2_tmpup_0_convBlock/bn2: decay:0.900000 epsilon:0.000010 act:relu is_train:False\n",
      "  [TL] Conv2dLayer hg_stack/stage_1/stage_1_hg/stage_1_hg_low2_3/stage_1_hg_low2_3_low2_2/stage_1_hg_low2_3_low2_2_tmpup_0/stage_1_hg_low2_3_low2_2_tmpup_0_convBlock/conv2: shape:[3, 3, 128, 128.0] strides:[1, 1, 1, 1] pad:SAME act:identity\n",
      "  [TL] BatchNormLayer hg_stack/stage_1/stage_1_hg/stage_1_hg_low2_3/stage_1_hg_low2_3_low2_2/stage_1_hg_low2_3_low2_2_tmpup_0/stage_1_hg_low2_3_low2_2_tmpup_0_convBlock/bn3: decay:0.900000 epsilon:0.000010 act:relu is_train:False\n",
      "  [TL] Conv2dLayer hg_stack/stage_1/stage_1_hg/stage_1_hg_low2_3/stage_1_hg_low2_3_low2_2/stage_1_hg_low2_3_low2_2_tmpup_0/stage_1_hg_low2_3_low2_2_tmpup_0_convBlock/conv3: shape:[1, 1, 128, 256] strides:[1, 1, 1, 1] pad:SAME act:identity\n"
     ]
    },
    {
     "name": "stdout",
     "output_type": "stream",
     "text": [
      "  [TL] ElementwiseLayer hg_stack/stage_1/stage_1_hg/stage_1_hg_low2_3/stage_1_hg_low2_3_low2_2/stage_1_hg_low2_3_low2_2_tmpup_0/stage_1_hg_low2_3_low2_2_tmpup_0_add_layer: size:(16, 16, 16, 256) fn:add\n",
      "  [TL] BatchNormLayer hg_stack/stage_1/stage_1_hg/stage_1_hg_low2_3/stage_1_hg_low2_3_low2_2/stage_1_hg_low2_3_low2_2_tmplow_0/stage_1_hg_low2_3_low2_2_tmplow_0_convBlock/bn1: decay:0.900000 epsilon:0.000010 act:relu is_train:False\n",
      "  [TL] Conv2dLayer hg_stack/stage_1/stage_1_hg/stage_1_hg_low2_3/stage_1_hg_low2_3_low2_2/stage_1_hg_low2_3_low2_2_tmplow_0/stage_1_hg_low2_3_low2_2_tmplow_0_convBlock/conv1: shape:[1, 1, 256, 128.0] strides:[1, 1, 1, 1] pad:SAME act:identity\n",
      "  [TL] BatchNormLayer hg_stack/stage_1/stage_1_hg/stage_1_hg_low2_3/stage_1_hg_low2_3_low2_2/stage_1_hg_low2_3_low2_2_tmplow_0/stage_1_hg_low2_3_low2_2_tmplow_0_convBlock/bn2: decay:0.900000 epsilon:0.000010 act:relu is_train:False\n",
      "  [TL] Conv2dLayer hg_stack/stage_1/stage_1_hg/stage_1_hg_low2_3/stage_1_hg_low2_3_low2_2/stage_1_hg_low2_3_low2_2_tmplow_0/stage_1_hg_low2_3_low2_2_tmplow_0_convBlock/conv2: shape:[3, 3, 128, 128.0] strides:[1, 1, 1, 1] pad:SAME act:identity\n",
      "  [TL] BatchNormLayer hg_stack/stage_1/stage_1_hg/stage_1_hg_low2_3/stage_1_hg_low2_3_low2_2/stage_1_hg_low2_3_low2_2_tmplow_0/stage_1_hg_low2_3_low2_2_tmplow_0_convBlock/bn3: decay:0.900000 epsilon:0.000010 act:relu is_train:False\n",
      "  [TL] Conv2dLayer hg_stack/stage_1/stage_1_hg/stage_1_hg_low2_3/stage_1_hg_low2_3_low2_2/stage_1_hg_low2_3_low2_2_tmplow_0/stage_1_hg_low2_3_low2_2_tmplow_0_convBlock/conv3: shape:[1, 1, 128, 256] strides:[1, 1, 1, 1] pad:SAME act:identity\n",
      "  [TL] ElementwiseLayer hg_stack/stage_1/stage_1_hg/stage_1_hg_low2_3/stage_1_hg_low2_3_low2_2/stage_1_hg_low2_3_low2_2_tmplow_0/stage_1_hg_low2_3_low2_2_tmplow_0_add_layer: size:(16, 8, 8, 256) fn:add\n",
      "  [TL] BatchNormLayer hg_stack/stage_1/stage_1_hg/stage_1_hg_low2_3/stage_1_hg_low2_3_low2_2/stage_1_hg_low2_3_low2_2_tmpup_1/stage_1_hg_low2_3_low2_2_tmpup_1_convBlock/bn1: decay:0.900000 epsilon:0.000010 act:relu is_train:False\n",
      "  [TL] Conv2dLayer hg_stack/stage_1/stage_1_hg/stage_1_hg_low2_3/stage_1_hg_low2_3_low2_2/stage_1_hg_low2_3_low2_2_tmpup_1/stage_1_hg_low2_3_low2_2_tmpup_1_convBlock/conv1: shape:[1, 1, 256, 128.0] strides:[1, 1, 1, 1] pad:SAME act:identity\n",
      "  [TL] BatchNormLayer hg_stack/stage_1/stage_1_hg/stage_1_hg_low2_3/stage_1_hg_low2_3_low2_2/stage_1_hg_low2_3_low2_2_tmpup_1/stage_1_hg_low2_3_low2_2_tmpup_1_convBlock/bn2: decay:0.900000 epsilon:0.000010 act:relu is_train:False\n",
      "  [TL] Conv2dLayer hg_stack/stage_1/stage_1_hg/stage_1_hg_low2_3/stage_1_hg_low2_3_low2_2/stage_1_hg_low2_3_low2_2_tmpup_1/stage_1_hg_low2_3_low2_2_tmpup_1_convBlock/conv2: shape:[3, 3, 128, 128.0] strides:[1, 1, 1, 1] pad:SAME act:identity\n",
      "  [TL] BatchNormLayer hg_stack/stage_1/stage_1_hg/stage_1_hg_low2_3/stage_1_hg_low2_3_low2_2/stage_1_hg_low2_3_low2_2_tmpup_1/stage_1_hg_low2_3_low2_2_tmpup_1_convBlock/bn3: decay:0.900000 epsilon:0.000010 act:relu is_train:False\n",
      "  [TL] Conv2dLayer hg_stack/stage_1/stage_1_hg/stage_1_hg_low2_3/stage_1_hg_low2_3_low2_2/stage_1_hg_low2_3_low2_2_tmpup_1/stage_1_hg_low2_3_low2_2_tmpup_1_convBlock/conv3: shape:[1, 1, 128, 256] strides:[1, 1, 1, 1] pad:SAME act:identity\n",
      "  [TL] ElementwiseLayer hg_stack/stage_1/stage_1_hg/stage_1_hg_low2_3/stage_1_hg_low2_3_low2_2/stage_1_hg_low2_3_low2_2_tmpup_1/stage_1_hg_low2_3_low2_2_tmpup_1_add_layer: size:(16, 16, 16, 256) fn:add\n",
      "  [TL] BatchNormLayer hg_stack/stage_1/stage_1_hg/stage_1_hg_low2_3/stage_1_hg_low2_3_low2_2/stage_1_hg_low2_3_low2_2_tmplow_1/stage_1_hg_low2_3_low2_2_tmplow_1_convBlock/bn1: decay:0.900000 epsilon:0.000010 act:relu is_train:False\n",
      "  [TL] Conv2dLayer hg_stack/stage_1/stage_1_hg/stage_1_hg_low2_3/stage_1_hg_low2_3_low2_2/stage_1_hg_low2_3_low2_2_tmplow_1/stage_1_hg_low2_3_low2_2_tmplow_1_convBlock/conv1: shape:[1, 1, 256, 128.0] strides:[1, 1, 1, 1] pad:SAME act:identity\n",
      "  [TL] BatchNormLayer hg_stack/stage_1/stage_1_hg/stage_1_hg_low2_3/stage_1_hg_low2_3_low2_2/stage_1_hg_low2_3_low2_2_tmplow_1/stage_1_hg_low2_3_low2_2_tmplow_1_convBlock/bn2: decay:0.900000 epsilon:0.000010 act:relu is_train:False\n",
      "  [TL] Conv2dLayer hg_stack/stage_1/stage_1_hg/stage_1_hg_low2_3/stage_1_hg_low2_3_low2_2/stage_1_hg_low2_3_low2_2_tmplow_1/stage_1_hg_low2_3_low2_2_tmplow_1_convBlock/conv2: shape:[3, 3, 128, 128.0] strides:[1, 1, 1, 1] pad:SAME act:identity\n",
      "  [TL] BatchNormLayer hg_stack/stage_1/stage_1_hg/stage_1_hg_low2_3/stage_1_hg_low2_3_low2_2/stage_1_hg_low2_3_low2_2_tmplow_1/stage_1_hg_low2_3_low2_2_tmplow_1_convBlock/bn3: decay:0.900000 epsilon:0.000010 act:relu is_train:False\n",
      "  [TL] Conv2dLayer hg_stack/stage_1/stage_1_hg/stage_1_hg_low2_3/stage_1_hg_low2_3_low2_2/stage_1_hg_low2_3_low2_2_tmplow_1/stage_1_hg_low2_3_low2_2_tmplow_1_convBlock/conv3: shape:[1, 1, 128, 256] strides:[1, 1, 1, 1] pad:SAME act:identity\n",
      "  [TL] ElementwiseLayer hg_stack/stage_1/stage_1_hg/stage_1_hg_low2_3/stage_1_hg_low2_3_low2_2/stage_1_hg_low2_3_low2_2_tmplow_1/stage_1_hg_low2_3_low2_2_tmplow_1_add_layer: size:(16, 8, 8, 256) fn:add\n",
      "  [TL] PoolLayer   hg_stack/stage_1/stage_1_hg/stage_1_hg_low2_3/stage_1_hg_low2_3_low2_2/stage_1_hg_low2_3_low2_2_low2_1/pool1: ksize:[1, 2, 2, 1] strides:[1, 2, 2, 1] padding:SAME pool:max_pool\n",
      "  [TL] BatchNormLayer hg_stack/stage_1/stage_1_hg/stage_1_hg_low2_3/stage_1_hg_low2_3_low2_2/stage_1_hg_low2_3_low2_2_low2_1/stage_1_hg_low2_3_low2_2_low2_1_tmpup_0/stage_1_hg_low2_3_low2_2_low2_1_tmpup_0_convBlock/bn1: decay:0.900000 epsilon:0.000010 act:relu is_train:False\n",
      "  [TL] Conv2dLayer hg_stack/stage_1/stage_1_hg/stage_1_hg_low2_3/stage_1_hg_low2_3_low2_2/stage_1_hg_low2_3_low2_2_low2_1/stage_1_hg_low2_3_low2_2_low2_1_tmpup_0/stage_1_hg_low2_3_low2_2_low2_1_tmpup_0_convBlock/conv1: shape:[1, 1, 256, 128.0] strides:[1, 1, 1, 1] pad:SAME act:identity\n",
      "  [TL] BatchNormLayer hg_stack/stage_1/stage_1_hg/stage_1_hg_low2_3/stage_1_hg_low2_3_low2_2/stage_1_hg_low2_3_low2_2_low2_1/stage_1_hg_low2_3_low2_2_low2_1_tmpup_0/stage_1_hg_low2_3_low2_2_low2_1_tmpup_0_convBlock/bn2: decay:0.900000 epsilon:0.000010 act:relu is_train:False\n",
      "  [TL] Conv2dLayer hg_stack/stage_1/stage_1_hg/stage_1_hg_low2_3/stage_1_hg_low2_3_low2_2/stage_1_hg_low2_3_low2_2_low2_1/stage_1_hg_low2_3_low2_2_low2_1_tmpup_0/stage_1_hg_low2_3_low2_2_low2_1_tmpup_0_convBlock/conv2: shape:[3, 3, 128, 128.0] strides:[1, 1, 1, 1] pad:SAME act:identity\n",
      "  [TL] BatchNormLayer hg_stack/stage_1/stage_1_hg/stage_1_hg_low2_3/stage_1_hg_low2_3_low2_2/stage_1_hg_low2_3_low2_2_low2_1/stage_1_hg_low2_3_low2_2_low2_1_tmpup_0/stage_1_hg_low2_3_low2_2_low2_1_tmpup_0_convBlock/bn3: decay:0.900000 epsilon:0.000010 act:relu is_train:False\n",
      "  [TL] Conv2dLayer hg_stack/stage_1/stage_1_hg/stage_1_hg_low2_3/stage_1_hg_low2_3_low2_2/stage_1_hg_low2_3_low2_2_low2_1/stage_1_hg_low2_3_low2_2_low2_1_tmpup_0/stage_1_hg_low2_3_low2_2_low2_1_tmpup_0_convBlock/conv3: shape:[1, 1, 128, 256] strides:[1, 1, 1, 1] pad:SAME act:identity\n",
      "  [TL] ElementwiseLayer hg_stack/stage_1/stage_1_hg/stage_1_hg_low2_3/stage_1_hg_low2_3_low2_2/stage_1_hg_low2_3_low2_2_low2_1/stage_1_hg_low2_3_low2_2_low2_1_tmpup_0/stage_1_hg_low2_3_low2_2_low2_1_tmpup_0_add_layer: size:(16, 8, 8, 256) fn:add\n",
      "  [TL] BatchNormLayer hg_stack/stage_1/stage_1_hg/stage_1_hg_low2_3/stage_1_hg_low2_3_low2_2/stage_1_hg_low2_3_low2_2_low2_1/stage_1_hg_low2_3_low2_2_low2_1_tmplow_0/stage_1_hg_low2_3_low2_2_low2_1_tmplow_0_convBlock/bn1: decay:0.900000 epsilon:0.000010 act:relu is_train:False\n",
      "  [TL] Conv2dLayer hg_stack/stage_1/stage_1_hg/stage_1_hg_low2_3/stage_1_hg_low2_3_low2_2/stage_1_hg_low2_3_low2_2_low2_1/stage_1_hg_low2_3_low2_2_low2_1_tmplow_0/stage_1_hg_low2_3_low2_2_low2_1_tmplow_0_convBlock/conv1: shape:[1, 1, 256, 128.0] strides:[1, 1, 1, 1] pad:SAME act:identity\n",
      "  [TL] BatchNormLayer hg_stack/stage_1/stage_1_hg/stage_1_hg_low2_3/stage_1_hg_low2_3_low2_2/stage_1_hg_low2_3_low2_2_low2_1/stage_1_hg_low2_3_low2_2_low2_1_tmplow_0/stage_1_hg_low2_3_low2_2_low2_1_tmplow_0_convBlock/bn2: decay:0.900000 epsilon:0.000010 act:relu is_train:False\n",
      "  [TL] Conv2dLayer hg_stack/stage_1/stage_1_hg/stage_1_hg_low2_3/stage_1_hg_low2_3_low2_2/stage_1_hg_low2_3_low2_2_low2_1/stage_1_hg_low2_3_low2_2_low2_1_tmplow_0/stage_1_hg_low2_3_low2_2_low2_1_tmplow_0_convBlock/conv2: shape:[3, 3, 128, 128.0] strides:[1, 1, 1, 1] pad:SAME act:identity\n",
      "  [TL] BatchNormLayer hg_stack/stage_1/stage_1_hg/stage_1_hg_low2_3/stage_1_hg_low2_3_low2_2/stage_1_hg_low2_3_low2_2_low2_1/stage_1_hg_low2_3_low2_2_low2_1_tmplow_0/stage_1_hg_low2_3_low2_2_low2_1_tmplow_0_convBlock/bn3: decay:0.900000 epsilon:0.000010 act:relu is_train:False\n",
      "  [TL] Conv2dLayer hg_stack/stage_1/stage_1_hg/stage_1_hg_low2_3/stage_1_hg_low2_3_low2_2/stage_1_hg_low2_3_low2_2_low2_1/stage_1_hg_low2_3_low2_2_low2_1_tmplow_0/stage_1_hg_low2_3_low2_2_low2_1_tmplow_0_convBlock/conv3: shape:[1, 1, 128, 256] strides:[1, 1, 1, 1] pad:SAME act:identity\n",
      "  [TL] ElementwiseLayer hg_stack/stage_1/stage_1_hg/stage_1_hg_low2_3/stage_1_hg_low2_3_low2_2/stage_1_hg_low2_3_low2_2_low2_1/stage_1_hg_low2_3_low2_2_low2_1_tmplow_0/stage_1_hg_low2_3_low2_2_low2_1_tmplow_0_add_layer: size:(16, 4, 4, 256) fn:add\n"
     ]
    },
    {
     "name": "stdout",
     "output_type": "stream",
     "text": [
      "  [TL] BatchNormLayer hg_stack/stage_1/stage_1_hg/stage_1_hg_low2_3/stage_1_hg_low2_3_low2_2/stage_1_hg_low2_3_low2_2_low2_1/stage_1_hg_low2_3_low2_2_low2_1_tmpup_1/stage_1_hg_low2_3_low2_2_low2_1_tmpup_1_convBlock/bn1: decay:0.900000 epsilon:0.000010 act:relu is_train:False\n",
      "  [TL] Conv2dLayer hg_stack/stage_1/stage_1_hg/stage_1_hg_low2_3/stage_1_hg_low2_3_low2_2/stage_1_hg_low2_3_low2_2_low2_1/stage_1_hg_low2_3_low2_2_low2_1_tmpup_1/stage_1_hg_low2_3_low2_2_low2_1_tmpup_1_convBlock/conv1: shape:[1, 1, 256, 128.0] strides:[1, 1, 1, 1] pad:SAME act:identity\n",
      "  [TL] BatchNormLayer hg_stack/stage_1/stage_1_hg/stage_1_hg_low2_3/stage_1_hg_low2_3_low2_2/stage_1_hg_low2_3_low2_2_low2_1/stage_1_hg_low2_3_low2_2_low2_1_tmpup_1/stage_1_hg_low2_3_low2_2_low2_1_tmpup_1_convBlock/bn2: decay:0.900000 epsilon:0.000010 act:relu is_train:False\n",
      "  [TL] Conv2dLayer hg_stack/stage_1/stage_1_hg/stage_1_hg_low2_3/stage_1_hg_low2_3_low2_2/stage_1_hg_low2_3_low2_2_low2_1/stage_1_hg_low2_3_low2_2_low2_1_tmpup_1/stage_1_hg_low2_3_low2_2_low2_1_tmpup_1_convBlock/conv2: shape:[3, 3, 128, 128.0] strides:[1, 1, 1, 1] pad:SAME act:identity\n",
      "  [TL] BatchNormLayer hg_stack/stage_1/stage_1_hg/stage_1_hg_low2_3/stage_1_hg_low2_3_low2_2/stage_1_hg_low2_3_low2_2_low2_1/stage_1_hg_low2_3_low2_2_low2_1_tmpup_1/stage_1_hg_low2_3_low2_2_low2_1_tmpup_1_convBlock/bn3: decay:0.900000 epsilon:0.000010 act:relu is_train:False\n",
      "  [TL] Conv2dLayer hg_stack/stage_1/stage_1_hg/stage_1_hg_low2_3/stage_1_hg_low2_3_low2_2/stage_1_hg_low2_3_low2_2_low2_1/stage_1_hg_low2_3_low2_2_low2_1_tmpup_1/stage_1_hg_low2_3_low2_2_low2_1_tmpup_1_convBlock/conv3: shape:[1, 1, 128, 256] strides:[1, 1, 1, 1] pad:SAME act:identity\n",
      "  [TL] ElementwiseLayer hg_stack/stage_1/stage_1_hg/stage_1_hg_low2_3/stage_1_hg_low2_3_low2_2/stage_1_hg_low2_3_low2_2_low2_1/stage_1_hg_low2_3_low2_2_low2_1_tmpup_1/stage_1_hg_low2_3_low2_2_low2_1_tmpup_1_add_layer: size:(16, 8, 8, 256) fn:add\n",
      "  [TL] BatchNormLayer hg_stack/stage_1/stage_1_hg/stage_1_hg_low2_3/stage_1_hg_low2_3_low2_2/stage_1_hg_low2_3_low2_2_low2_1/stage_1_hg_low2_3_low2_2_low2_1_tmplow_1/stage_1_hg_low2_3_low2_2_low2_1_tmplow_1_convBlock/bn1: decay:0.900000 epsilon:0.000010 act:relu is_train:False\n",
      "  [TL] Conv2dLayer hg_stack/stage_1/stage_1_hg/stage_1_hg_low2_3/stage_1_hg_low2_3_low2_2/stage_1_hg_low2_3_low2_2_low2_1/stage_1_hg_low2_3_low2_2_low2_1_tmplow_1/stage_1_hg_low2_3_low2_2_low2_1_tmplow_1_convBlock/conv1: shape:[1, 1, 256, 128.0] strides:[1, 1, 1, 1] pad:SAME act:identity\n",
      "  [TL] BatchNormLayer hg_stack/stage_1/stage_1_hg/stage_1_hg_low2_3/stage_1_hg_low2_3_low2_2/stage_1_hg_low2_3_low2_2_low2_1/stage_1_hg_low2_3_low2_2_low2_1_tmplow_1/stage_1_hg_low2_3_low2_2_low2_1_tmplow_1_convBlock/bn2: decay:0.900000 epsilon:0.000010 act:relu is_train:False\n",
      "  [TL] Conv2dLayer hg_stack/stage_1/stage_1_hg/stage_1_hg_low2_3/stage_1_hg_low2_3_low2_2/stage_1_hg_low2_3_low2_2_low2_1/stage_1_hg_low2_3_low2_2_low2_1_tmplow_1/stage_1_hg_low2_3_low2_2_low2_1_tmplow_1_convBlock/conv2: shape:[3, 3, 128, 128.0] strides:[1, 1, 1, 1] pad:SAME act:identity\n",
      "  [TL] BatchNormLayer hg_stack/stage_1/stage_1_hg/stage_1_hg_low2_3/stage_1_hg_low2_3_low2_2/stage_1_hg_low2_3_low2_2_low2_1/stage_1_hg_low2_3_low2_2_low2_1_tmplow_1/stage_1_hg_low2_3_low2_2_low2_1_tmplow_1_convBlock/bn3: decay:0.900000 epsilon:0.000010 act:relu is_train:False\n",
      "  [TL] Conv2dLayer hg_stack/stage_1/stage_1_hg/stage_1_hg_low2_3/stage_1_hg_low2_3_low2_2/stage_1_hg_low2_3_low2_2_low2_1/stage_1_hg_low2_3_low2_2_low2_1_tmplow_1/stage_1_hg_low2_3_low2_2_low2_1_tmplow_1_convBlock/conv3: shape:[1, 1, 128, 256] strides:[1, 1, 1, 1] pad:SAME act:identity\n",
      "  [TL] ElementwiseLayer hg_stack/stage_1/stage_1_hg/stage_1_hg_low2_3/stage_1_hg_low2_3_low2_2/stage_1_hg_low2_3_low2_2_low2_1/stage_1_hg_low2_3_low2_2_low2_1_tmplow_1/stage_1_hg_low2_3_low2_2_low2_1_tmplow_1_add_layer: size:(16, 4, 4, 256) fn:add\n",
      "  [TL] BatchNormLayer hg_stack/stage_1/stage_1_hg/stage_1_hg_low2_3/stage_1_hg_low2_3_low2_2/stage_1_hg_low2_3_low2_2_low2_1/stage_1_hg_low2_3_low2_2_low2_1_tmplow2_0/stage_1_hg_low2_3_low2_2_low2_1_tmplow2_0_convBlock/bn1: decay:0.900000 epsilon:0.000010 act:relu is_train:False\n",
      "  [TL] Conv2dLayer hg_stack/stage_1/stage_1_hg/stage_1_hg_low2_3/stage_1_hg_low2_3_low2_2/stage_1_hg_low2_3_low2_2_low2_1/stage_1_hg_low2_3_low2_2_low2_1_tmplow2_0/stage_1_hg_low2_3_low2_2_low2_1_tmplow2_0_convBlock/conv1: shape:[1, 1, 256, 128.0] strides:[1, 1, 1, 1] pad:SAME act:identity\n",
      "  [TL] BatchNormLayer hg_stack/stage_1/stage_1_hg/stage_1_hg_low2_3/stage_1_hg_low2_3_low2_2/stage_1_hg_low2_3_low2_2_low2_1/stage_1_hg_low2_3_low2_2_low2_1_tmplow2_0/stage_1_hg_low2_3_low2_2_low2_1_tmplow2_0_convBlock/bn2: decay:0.900000 epsilon:0.000010 act:relu is_train:False\n",
      "  [TL] Conv2dLayer hg_stack/stage_1/stage_1_hg/stage_1_hg_low2_3/stage_1_hg_low2_3_low2_2/stage_1_hg_low2_3_low2_2_low2_1/stage_1_hg_low2_3_low2_2_low2_1_tmplow2_0/stage_1_hg_low2_3_low2_2_low2_1_tmplow2_0_convBlock/conv2: shape:[3, 3, 128, 128.0] strides:[1, 1, 1, 1] pad:SAME act:identity\n",
      "  [TL] BatchNormLayer hg_stack/stage_1/stage_1_hg/stage_1_hg_low2_3/stage_1_hg_low2_3_low2_2/stage_1_hg_low2_3_low2_2_low2_1/stage_1_hg_low2_3_low2_2_low2_1_tmplow2_0/stage_1_hg_low2_3_low2_2_low2_1_tmplow2_0_convBlock/bn3: decay:0.900000 epsilon:0.000010 act:relu is_train:False\n",
      "  [TL] Conv2dLayer hg_stack/stage_1/stage_1_hg/stage_1_hg_low2_3/stage_1_hg_low2_3_low2_2/stage_1_hg_low2_3_low2_2_low2_1/stage_1_hg_low2_3_low2_2_low2_1_tmplow2_0/stage_1_hg_low2_3_low2_2_low2_1_tmplow2_0_convBlock/conv3: shape:[1, 1, 128, 256] strides:[1, 1, 1, 1] pad:SAME act:identity\n",
      "  [TL] ElementwiseLayer hg_stack/stage_1/stage_1_hg/stage_1_hg_low2_3/stage_1_hg_low2_3_low2_2/stage_1_hg_low2_3_low2_2_low2_1/stage_1_hg_low2_3_low2_2_low2_1_tmplow2_0/stage_1_hg_low2_3_low2_2_low2_1_tmplow2_0_add_layer: size:(16, 4, 4, 256) fn:add\n",
      "  [TL] BatchNormLayer hg_stack/stage_1/stage_1_hg/stage_1_hg_low2_3/stage_1_hg_low2_3_low2_2/stage_1_hg_low2_3_low2_2_low2_1/stage_1_hg_low2_3_low2_2_low2_1_tmplow2_1/stage_1_hg_low2_3_low2_2_low2_1_tmplow2_1_convBlock/bn1: decay:0.900000 epsilon:0.000010 act:relu is_train:False\n",
      "  [TL] Conv2dLayer hg_stack/stage_1/stage_1_hg/stage_1_hg_low2_3/stage_1_hg_low2_3_low2_2/stage_1_hg_low2_3_low2_2_low2_1/stage_1_hg_low2_3_low2_2_low2_1_tmplow2_1/stage_1_hg_low2_3_low2_2_low2_1_tmplow2_1_convBlock/conv1: shape:[1, 1, 256, 128.0] strides:[1, 1, 1, 1] pad:SAME act:identity\n",
      "  [TL] BatchNormLayer hg_stack/stage_1/stage_1_hg/stage_1_hg_low2_3/stage_1_hg_low2_3_low2_2/stage_1_hg_low2_3_low2_2_low2_1/stage_1_hg_low2_3_low2_2_low2_1_tmplow2_1/stage_1_hg_low2_3_low2_2_low2_1_tmplow2_1_convBlock/bn2: decay:0.900000 epsilon:0.000010 act:relu is_train:False\n",
      "  [TL] Conv2dLayer hg_stack/stage_1/stage_1_hg/stage_1_hg_low2_3/stage_1_hg_low2_3_low2_2/stage_1_hg_low2_3_low2_2_low2_1/stage_1_hg_low2_3_low2_2_low2_1_tmplow2_1/stage_1_hg_low2_3_low2_2_low2_1_tmplow2_1_convBlock/conv2: shape:[3, 3, 128, 128.0] strides:[1, 1, 1, 1] pad:SAME act:identity\n",
      "  [TL] BatchNormLayer hg_stack/stage_1/stage_1_hg/stage_1_hg_low2_3/stage_1_hg_low2_3_low2_2/stage_1_hg_low2_3_low2_2_low2_1/stage_1_hg_low2_3_low2_2_low2_1_tmplow2_1/stage_1_hg_low2_3_low2_2_low2_1_tmplow2_1_convBlock/bn3: decay:0.900000 epsilon:0.000010 act:relu is_train:False\n",
      "  [TL] Conv2dLayer hg_stack/stage_1/stage_1_hg/stage_1_hg_low2_3/stage_1_hg_low2_3_low2_2/stage_1_hg_low2_3_low2_2_low2_1/stage_1_hg_low2_3_low2_2_low2_1_tmplow2_1/stage_1_hg_low2_3_low2_2_low2_1_tmplow2_1_convBlock/conv3: shape:[1, 1, 128, 256] strides:[1, 1, 1, 1] pad:SAME act:identity\n",
      "  [TL] ElementwiseLayer hg_stack/stage_1/stage_1_hg/stage_1_hg_low2_3/stage_1_hg_low2_3_low2_2/stage_1_hg_low2_3_low2_2_low2_1/stage_1_hg_low2_3_low2_2_low2_1_tmplow2_1/stage_1_hg_low2_3_low2_2_low2_1_tmplow2_1_add_layer: size:(16, 4, 4, 256) fn:add\n",
      "  [TL] BatchNormLayer hg_stack/stage_1/stage_1_hg/stage_1_hg_low2_3/stage_1_hg_low2_3_low2_2/stage_1_hg_low2_3_low2_2_low2_1/stage_1_hg_low2_3_low2_2_low2_1_tmplow3_0/stage_1_hg_low2_3_low2_2_low2_1_tmplow3_0_convBlock/bn1: decay:0.900000 epsilon:0.000010 act:relu is_train:False\n",
      "  [TL] Conv2dLayer hg_stack/stage_1/stage_1_hg/stage_1_hg_low2_3/stage_1_hg_low2_3_low2_2/stage_1_hg_low2_3_low2_2_low2_1/stage_1_hg_low2_3_low2_2_low2_1_tmplow3_0/stage_1_hg_low2_3_low2_2_low2_1_tmplow3_0_convBlock/conv1: shape:[1, 1, 256, 128.0] strides:[1, 1, 1, 1] pad:SAME act:identity\n",
      "  [TL] BatchNormLayer hg_stack/stage_1/stage_1_hg/stage_1_hg_low2_3/stage_1_hg_low2_3_low2_2/stage_1_hg_low2_3_low2_2_low2_1/stage_1_hg_low2_3_low2_2_low2_1_tmplow3_0/stage_1_hg_low2_3_low2_2_low2_1_tmplow3_0_convBlock/bn2: decay:0.900000 epsilon:0.000010 act:relu is_train:False\n",
      "  [TL] Conv2dLayer hg_stack/stage_1/stage_1_hg/stage_1_hg_low2_3/stage_1_hg_low2_3_low2_2/stage_1_hg_low2_3_low2_2_low2_1/stage_1_hg_low2_3_low2_2_low2_1_tmplow3_0/stage_1_hg_low2_3_low2_2_low2_1_tmplow3_0_convBlock/conv2: shape:[3, 3, 128, 128.0] strides:[1, 1, 1, 1] pad:SAME act:identity\n",
      "  [TL] BatchNormLayer hg_stack/stage_1/stage_1_hg/stage_1_hg_low2_3/stage_1_hg_low2_3_low2_2/stage_1_hg_low2_3_low2_2_low2_1/stage_1_hg_low2_3_low2_2_low2_1_tmplow3_0/stage_1_hg_low2_3_low2_2_low2_1_tmplow3_0_convBlock/bn3: decay:0.900000 epsilon:0.000010 act:relu is_train:False\n",
      "  [TL] Conv2dLayer hg_stack/stage_1/stage_1_hg/stage_1_hg_low2_3/stage_1_hg_low2_3_low2_2/stage_1_hg_low2_3_low2_2_low2_1/stage_1_hg_low2_3_low2_2_low2_1_tmplow3_0/stage_1_hg_low2_3_low2_2_low2_1_tmplow3_0_convBlock/conv3: shape:[1, 1, 128, 256] strides:[1, 1, 1, 1] pad:SAME act:identity\n"
     ]
    },
    {
     "name": "stdout",
     "output_type": "stream",
     "text": [
      "  [TL] ElementwiseLayer hg_stack/stage_1/stage_1_hg/stage_1_hg_low2_3/stage_1_hg_low2_3_low2_2/stage_1_hg_low2_3_low2_2_low2_1/stage_1_hg_low2_3_low2_2_low2_1_tmplow3_0/stage_1_hg_low2_3_low2_2_low2_1_tmplow3_0_add_layer: size:(16, 4, 4, 256) fn:add\n",
      "  [TL] BatchNormLayer hg_stack/stage_1/stage_1_hg/stage_1_hg_low2_3/stage_1_hg_low2_3_low2_2/stage_1_hg_low2_3_low2_2_low2_1/stage_1_hg_low2_3_low2_2_low2_1_tmplow3_1/stage_1_hg_low2_3_low2_2_low2_1_tmplow3_1_convBlock/bn1: decay:0.900000 epsilon:0.000010 act:relu is_train:False\n",
      "  [TL] Conv2dLayer hg_stack/stage_1/stage_1_hg/stage_1_hg_low2_3/stage_1_hg_low2_3_low2_2/stage_1_hg_low2_3_low2_2_low2_1/stage_1_hg_low2_3_low2_2_low2_1_tmplow3_1/stage_1_hg_low2_3_low2_2_low2_1_tmplow3_1_convBlock/conv1: shape:[1, 1, 256, 128.0] strides:[1, 1, 1, 1] pad:SAME act:identity\n",
      "  [TL] BatchNormLayer hg_stack/stage_1/stage_1_hg/stage_1_hg_low2_3/stage_1_hg_low2_3_low2_2/stage_1_hg_low2_3_low2_2_low2_1/stage_1_hg_low2_3_low2_2_low2_1_tmplow3_1/stage_1_hg_low2_3_low2_2_low2_1_tmplow3_1_convBlock/bn2: decay:0.900000 epsilon:0.000010 act:relu is_train:False\n",
      "  [TL] Conv2dLayer hg_stack/stage_1/stage_1_hg/stage_1_hg_low2_3/stage_1_hg_low2_3_low2_2/stage_1_hg_low2_3_low2_2_low2_1/stage_1_hg_low2_3_low2_2_low2_1_tmplow3_1/stage_1_hg_low2_3_low2_2_low2_1_tmplow3_1_convBlock/conv2: shape:[3, 3, 128, 128.0] strides:[1, 1, 1, 1] pad:SAME act:identity\n",
      "  [TL] BatchNormLayer hg_stack/stage_1/stage_1_hg/stage_1_hg_low2_3/stage_1_hg_low2_3_low2_2/stage_1_hg_low2_3_low2_2_low2_1/stage_1_hg_low2_3_low2_2_low2_1_tmplow3_1/stage_1_hg_low2_3_low2_2_low2_1_tmplow3_1_convBlock/bn3: decay:0.900000 epsilon:0.000010 act:relu is_train:False\n",
      "  [TL] Conv2dLayer hg_stack/stage_1/stage_1_hg/stage_1_hg_low2_3/stage_1_hg_low2_3_low2_2/stage_1_hg_low2_3_low2_2_low2_1/stage_1_hg_low2_3_low2_2_low2_1_tmplow3_1/stage_1_hg_low2_3_low2_2_low2_1_tmplow3_1_convBlock/conv3: shape:[1, 1, 128, 256] strides:[1, 1, 1, 1] pad:SAME act:identity\n",
      "  [TL] ElementwiseLayer hg_stack/stage_1/stage_1_hg/stage_1_hg_low2_3/stage_1_hg_low2_3_low2_2/stage_1_hg_low2_3_low2_2_low2_1/stage_1_hg_low2_3_low2_2_low2_1_tmplow3_1/stage_1_hg_low2_3_low2_2_low2_1_tmplow3_1_add_layer: size:(16, 4, 4, 256) fn:add\n",
      "  [TL] UpSampling2dLayer stage_1_hg_low2_3_low2_2_low2_1_Upsample: is_scale:True size:[8, 8] method:1 align_corners:False\n",
      "  [TL] ElementwiseLayer hg_stack/stage_1/stage_1_hg/stage_1_hg_low2_3/stage_1_hg_low2_3_low2_2/stage_1_hg_low2_3_low2_2_low2_1/stage_1_hg_low2_3_low2_2_low2_1_add_layer: size:(16, 8, 8, 256) fn:add\n",
      "  [TL] BatchNormLayer hg_stack/stage_1/stage_1_hg/stage_1_hg_low2_3/stage_1_hg_low2_3_low2_2/stage_1_hg_low2_3_low2_2_tmplow3_0/stage_1_hg_low2_3_low2_2_tmplow3_0_convBlock/bn1: decay:0.900000 epsilon:0.000010 act:relu is_train:False\n",
      "  [TL] Conv2dLayer hg_stack/stage_1/stage_1_hg/stage_1_hg_low2_3/stage_1_hg_low2_3_low2_2/stage_1_hg_low2_3_low2_2_tmplow3_0/stage_1_hg_low2_3_low2_2_tmplow3_0_convBlock/conv1: shape:[1, 1, 256, 128.0] strides:[1, 1, 1, 1] pad:SAME act:identity\n",
      "  [TL] BatchNormLayer hg_stack/stage_1/stage_1_hg/stage_1_hg_low2_3/stage_1_hg_low2_3_low2_2/stage_1_hg_low2_3_low2_2_tmplow3_0/stage_1_hg_low2_3_low2_2_tmplow3_0_convBlock/bn2: decay:0.900000 epsilon:0.000010 act:relu is_train:False\n",
      "  [TL] Conv2dLayer hg_stack/stage_1/stage_1_hg/stage_1_hg_low2_3/stage_1_hg_low2_3_low2_2/stage_1_hg_low2_3_low2_2_tmplow3_0/stage_1_hg_low2_3_low2_2_tmplow3_0_convBlock/conv2: shape:[3, 3, 128, 128.0] strides:[1, 1, 1, 1] pad:SAME act:identity\n",
      "  [TL] BatchNormLayer hg_stack/stage_1/stage_1_hg/stage_1_hg_low2_3/stage_1_hg_low2_3_low2_2/stage_1_hg_low2_3_low2_2_tmplow3_0/stage_1_hg_low2_3_low2_2_tmplow3_0_convBlock/bn3: decay:0.900000 epsilon:0.000010 act:relu is_train:False\n",
      "  [TL] Conv2dLayer hg_stack/stage_1/stage_1_hg/stage_1_hg_low2_3/stage_1_hg_low2_3_low2_2/stage_1_hg_low2_3_low2_2_tmplow3_0/stage_1_hg_low2_3_low2_2_tmplow3_0_convBlock/conv3: shape:[1, 1, 128, 256] strides:[1, 1, 1, 1] pad:SAME act:identity\n",
      "  [TL] ElementwiseLayer hg_stack/stage_1/stage_1_hg/stage_1_hg_low2_3/stage_1_hg_low2_3_low2_2/stage_1_hg_low2_3_low2_2_tmplow3_0/stage_1_hg_low2_3_low2_2_tmplow3_0_add_layer: size:(16, 8, 8, 256) fn:add\n",
      "  [TL] BatchNormLayer hg_stack/stage_1/stage_1_hg/stage_1_hg_low2_3/stage_1_hg_low2_3_low2_2/stage_1_hg_low2_3_low2_2_tmplow3_1/stage_1_hg_low2_3_low2_2_tmplow3_1_convBlock/bn1: decay:0.900000 epsilon:0.000010 act:relu is_train:False\n",
      "  [TL] Conv2dLayer hg_stack/stage_1/stage_1_hg/stage_1_hg_low2_3/stage_1_hg_low2_3_low2_2/stage_1_hg_low2_3_low2_2_tmplow3_1/stage_1_hg_low2_3_low2_2_tmplow3_1_convBlock/conv1: shape:[1, 1, 256, 128.0] strides:[1, 1, 1, 1] pad:SAME act:identity\n",
      "  [TL] BatchNormLayer hg_stack/stage_1/stage_1_hg/stage_1_hg_low2_3/stage_1_hg_low2_3_low2_2/stage_1_hg_low2_3_low2_2_tmplow3_1/stage_1_hg_low2_3_low2_2_tmplow3_1_convBlock/bn2: decay:0.900000 epsilon:0.000010 act:relu is_train:False\n",
      "  [TL] Conv2dLayer hg_stack/stage_1/stage_1_hg/stage_1_hg_low2_3/stage_1_hg_low2_3_low2_2/stage_1_hg_low2_3_low2_2_tmplow3_1/stage_1_hg_low2_3_low2_2_tmplow3_1_convBlock/conv2: shape:[3, 3, 128, 128.0] strides:[1, 1, 1, 1] pad:SAME act:identity\n",
      "  [TL] BatchNormLayer hg_stack/stage_1/stage_1_hg/stage_1_hg_low2_3/stage_1_hg_low2_3_low2_2/stage_1_hg_low2_3_low2_2_tmplow3_1/stage_1_hg_low2_3_low2_2_tmplow3_1_convBlock/bn3: decay:0.900000 epsilon:0.000010 act:relu is_train:False\n",
      "  [TL] Conv2dLayer hg_stack/stage_1/stage_1_hg/stage_1_hg_low2_3/stage_1_hg_low2_3_low2_2/stage_1_hg_low2_3_low2_2_tmplow3_1/stage_1_hg_low2_3_low2_2_tmplow3_1_convBlock/conv3: shape:[1, 1, 128, 256] strides:[1, 1, 1, 1] pad:SAME act:identity\n",
      "  [TL] ElementwiseLayer hg_stack/stage_1/stage_1_hg/stage_1_hg_low2_3/stage_1_hg_low2_3_low2_2/stage_1_hg_low2_3_low2_2_tmplow3_1/stage_1_hg_low2_3_low2_2_tmplow3_1_add_layer: size:(16, 8, 8, 256) fn:add\n",
      "  [TL] UpSampling2dLayer stage_1_hg_low2_3_low2_2_Upsample: is_scale:True size:[16, 16] method:1 align_corners:False\n",
      "  [TL] ElementwiseLayer hg_stack/stage_1/stage_1_hg/stage_1_hg_low2_3/stage_1_hg_low2_3_low2_2/stage_1_hg_low2_3_low2_2_add_layer: size:(16, 16, 16, 256) fn:add\n",
      "  [TL] BatchNormLayer hg_stack/stage_1/stage_1_hg/stage_1_hg_low2_3/stage_1_hg_low2_3_tmplow3_0/stage_1_hg_low2_3_tmplow3_0_convBlock/bn1: decay:0.900000 epsilon:0.000010 act:relu is_train:False\n",
      "  [TL] Conv2dLayer hg_stack/stage_1/stage_1_hg/stage_1_hg_low2_3/stage_1_hg_low2_3_tmplow3_0/stage_1_hg_low2_3_tmplow3_0_convBlock/conv1: shape:[1, 1, 256, 128.0] strides:[1, 1, 1, 1] pad:SAME act:identity\n",
      "  [TL] BatchNormLayer hg_stack/stage_1/stage_1_hg/stage_1_hg_low2_3/stage_1_hg_low2_3_tmplow3_0/stage_1_hg_low2_3_tmplow3_0_convBlock/bn2: decay:0.900000 epsilon:0.000010 act:relu is_train:False\n",
      "  [TL] Conv2dLayer hg_stack/stage_1/stage_1_hg/stage_1_hg_low2_3/stage_1_hg_low2_3_tmplow3_0/stage_1_hg_low2_3_tmplow3_0_convBlock/conv2: shape:[3, 3, 128, 128.0] strides:[1, 1, 1, 1] pad:SAME act:identity\n",
      "  [TL] BatchNormLayer hg_stack/stage_1/stage_1_hg/stage_1_hg_low2_3/stage_1_hg_low2_3_tmplow3_0/stage_1_hg_low2_3_tmplow3_0_convBlock/bn3: decay:0.900000 epsilon:0.000010 act:relu is_train:False\n",
      "  [TL] Conv2dLayer hg_stack/stage_1/stage_1_hg/stage_1_hg_low2_3/stage_1_hg_low2_3_tmplow3_0/stage_1_hg_low2_3_tmplow3_0_convBlock/conv3: shape:[1, 1, 128, 256] strides:[1, 1, 1, 1] pad:SAME act:identity\n",
      "  [TL] ElementwiseLayer hg_stack/stage_1/stage_1_hg/stage_1_hg_low2_3/stage_1_hg_low2_3_tmplow3_0/stage_1_hg_low2_3_tmplow3_0_add_layer: size:(16, 16, 16, 256) fn:add\n",
      "  [TL] BatchNormLayer hg_stack/stage_1/stage_1_hg/stage_1_hg_low2_3/stage_1_hg_low2_3_tmplow3_1/stage_1_hg_low2_3_tmplow3_1_convBlock/bn1: decay:0.900000 epsilon:0.000010 act:relu is_train:False\n",
      "  [TL] Conv2dLayer hg_stack/stage_1/stage_1_hg/stage_1_hg_low2_3/stage_1_hg_low2_3_tmplow3_1/stage_1_hg_low2_3_tmplow3_1_convBlock/conv1: shape:[1, 1, 256, 128.0] strides:[1, 1, 1, 1] pad:SAME act:identity\n",
      "  [TL] BatchNormLayer hg_stack/stage_1/stage_1_hg/stage_1_hg_low2_3/stage_1_hg_low2_3_tmplow3_1/stage_1_hg_low2_3_tmplow3_1_convBlock/bn2: decay:0.900000 epsilon:0.000010 act:relu is_train:False\n",
      "  [TL] Conv2dLayer hg_stack/stage_1/stage_1_hg/stage_1_hg_low2_3/stage_1_hg_low2_3_tmplow3_1/stage_1_hg_low2_3_tmplow3_1_convBlock/conv2: shape:[3, 3, 128, 128.0] strides:[1, 1, 1, 1] pad:SAME act:identity\n",
      "  [TL] BatchNormLayer hg_stack/stage_1/stage_1_hg/stage_1_hg_low2_3/stage_1_hg_low2_3_tmplow3_1/stage_1_hg_low2_3_tmplow3_1_convBlock/bn3: decay:0.900000 epsilon:0.000010 act:relu is_train:False\n",
      "  [TL] Conv2dLayer hg_stack/stage_1/stage_1_hg/stage_1_hg_low2_3/stage_1_hg_low2_3_tmplow3_1/stage_1_hg_low2_3_tmplow3_1_convBlock/conv3: shape:[1, 1, 128, 256] strides:[1, 1, 1, 1] pad:SAME act:identity\n",
      "  [TL] ElementwiseLayer hg_stack/stage_1/stage_1_hg/stage_1_hg_low2_3/stage_1_hg_low2_3_tmplow3_1/stage_1_hg_low2_3_tmplow3_1_add_layer: size:(16, 16, 16, 256) fn:add\n"
     ]
    },
    {
     "name": "stdout",
     "output_type": "stream",
     "text": [
      "  [TL] UpSampling2dLayer stage_1_hg_low2_3_Upsample: is_scale:True size:[32, 32] method:1 align_corners:False\n",
      "  [TL] ElementwiseLayer hg_stack/stage_1/stage_1_hg/stage_1_hg_low2_3/stage_1_hg_low2_3_add_layer: size:(16, 32, 32, 256) fn:add\n",
      "  [TL] BatchNormLayer hg_stack/stage_1/stage_1_hg/stage_1_hg_tmplow3_0/stage_1_hg_tmplow3_0_convBlock/bn1: decay:0.900000 epsilon:0.000010 act:relu is_train:False\n",
      "  [TL] Conv2dLayer hg_stack/stage_1/stage_1_hg/stage_1_hg_tmplow3_0/stage_1_hg_tmplow3_0_convBlock/conv1: shape:[1, 1, 256, 128.0] strides:[1, 1, 1, 1] pad:SAME act:identity\n",
      "  [TL] BatchNormLayer hg_stack/stage_1/stage_1_hg/stage_1_hg_tmplow3_0/stage_1_hg_tmplow3_0_convBlock/bn2: decay:0.900000 epsilon:0.000010 act:relu is_train:False\n",
      "  [TL] Conv2dLayer hg_stack/stage_1/stage_1_hg/stage_1_hg_tmplow3_0/stage_1_hg_tmplow3_0_convBlock/conv2: shape:[3, 3, 128, 128.0] strides:[1, 1, 1, 1] pad:SAME act:identity\n",
      "  [TL] BatchNormLayer hg_stack/stage_1/stage_1_hg/stage_1_hg_tmplow3_0/stage_1_hg_tmplow3_0_convBlock/bn3: decay:0.900000 epsilon:0.000010 act:relu is_train:False\n",
      "  [TL] Conv2dLayer hg_stack/stage_1/stage_1_hg/stage_1_hg_tmplow3_0/stage_1_hg_tmplow3_0_convBlock/conv3: shape:[1, 1, 128, 256] strides:[1, 1, 1, 1] pad:SAME act:identity\n",
      "  [TL] ElementwiseLayer hg_stack/stage_1/stage_1_hg/stage_1_hg_tmplow3_0/stage_1_hg_tmplow3_0_add_layer: size:(16, 32, 32, 256) fn:add\n",
      "  [TL] BatchNormLayer hg_stack/stage_1/stage_1_hg/stage_1_hg_tmplow3_1/stage_1_hg_tmplow3_1_convBlock/bn1: decay:0.900000 epsilon:0.000010 act:relu is_train:False\n",
      "  [TL] Conv2dLayer hg_stack/stage_1/stage_1_hg/stage_1_hg_tmplow3_1/stage_1_hg_tmplow3_1_convBlock/conv1: shape:[1, 1, 256, 128.0] strides:[1, 1, 1, 1] pad:SAME act:identity\n",
      "  [TL] BatchNormLayer hg_stack/stage_1/stage_1_hg/stage_1_hg_tmplow3_1/stage_1_hg_tmplow3_1_convBlock/bn2: decay:0.900000 epsilon:0.000010 act:relu is_train:False\n",
      "  [TL] Conv2dLayer hg_stack/stage_1/stage_1_hg/stage_1_hg_tmplow3_1/stage_1_hg_tmplow3_1_convBlock/conv2: shape:[3, 3, 128, 128.0] strides:[1, 1, 1, 1] pad:SAME act:identity\n",
      "  [TL] BatchNormLayer hg_stack/stage_1/stage_1_hg/stage_1_hg_tmplow3_1/stage_1_hg_tmplow3_1_convBlock/bn3: decay:0.900000 epsilon:0.000010 act:relu is_train:False\n",
      "  [TL] Conv2dLayer hg_stack/stage_1/stage_1_hg/stage_1_hg_tmplow3_1/stage_1_hg_tmplow3_1_convBlock/conv3: shape:[1, 1, 128, 256] strides:[1, 1, 1, 1] pad:SAME act:identity\n",
      "  [TL] ElementwiseLayer hg_stack/stage_1/stage_1_hg/stage_1_hg_tmplow3_1/stage_1_hg_tmplow3_1_add_layer: size:(16, 32, 32, 256) fn:add\n",
      "  [TL] UpSampling2dLayer stage_1_hg_Upsample: is_scale:True size:[64, 64] method:1 align_corners:False\n",
      "  [TL] ElementwiseLayer hg_stack/stage_1/stage_1_hg/stage_1_hg_add_layer: size:(16, 64, 64, 256) fn:add\n",
      "  [TL] BatchNormLayer hg_stack/stage_1/stage_1_tmpres_0/stage_1_tmpres_0_convBlock/bn1: decay:0.900000 epsilon:0.000010 act:relu is_train:False\n",
      "  [TL] Conv2dLayer hg_stack/stage_1/stage_1_tmpres_0/stage_1_tmpres_0_convBlock/conv1: shape:[1, 1, 256, 128.0] strides:[1, 1, 1, 1] pad:SAME act:identity\n",
      "  [TL] BatchNormLayer hg_stack/stage_1/stage_1_tmpres_0/stage_1_tmpres_0_convBlock/bn2: decay:0.900000 epsilon:0.000010 act:relu is_train:False\n",
      "  [TL] Conv2dLayer hg_stack/stage_1/stage_1_tmpres_0/stage_1_tmpres_0_convBlock/conv2: shape:[3, 3, 128, 128.0] strides:[1, 1, 1, 1] pad:SAME act:identity\n",
      "  [TL] BatchNormLayer hg_stack/stage_1/stage_1_tmpres_0/stage_1_tmpres_0_convBlock/bn3: decay:0.900000 epsilon:0.000010 act:relu is_train:False\n",
      "  [TL] Conv2dLayer hg_stack/stage_1/stage_1_tmpres_0/stage_1_tmpres_0_convBlock/conv3: shape:[1, 1, 128, 256] strides:[1, 1, 1, 1] pad:SAME act:identity\n",
      "  [TL] ElementwiseLayer hg_stack/stage_1/stage_1_tmpres_0/stage_1_tmpres_0_add_layer: size:(16, 64, 64, 256) fn:add\n",
      "  [TL] BatchNormLayer hg_stack/stage_1/stage_1_tmpres_1/stage_1_tmpres_1_convBlock/bn1: decay:0.900000 epsilon:0.000010 act:relu is_train:False\n",
      "  [TL] Conv2dLayer hg_stack/stage_1/stage_1_tmpres_1/stage_1_tmpres_1_convBlock/conv1: shape:[1, 1, 256, 128.0] strides:[1, 1, 1, 1] pad:SAME act:identity\n",
      "  [TL] BatchNormLayer hg_stack/stage_1/stage_1_tmpres_1/stage_1_tmpres_1_convBlock/bn2: decay:0.900000 epsilon:0.000010 act:relu is_train:False\n",
      "  [TL] Conv2dLayer hg_stack/stage_1/stage_1_tmpres_1/stage_1_tmpres_1_convBlock/conv2: shape:[3, 3, 128, 128.0] strides:[1, 1, 1, 1] pad:SAME act:identity\n",
      "  [TL] BatchNormLayer hg_stack/stage_1/stage_1_tmpres_1/stage_1_tmpres_1_convBlock/bn3: decay:0.900000 epsilon:0.000010 act:relu is_train:False\n",
      "  [TL] Conv2dLayer hg_stack/stage_1/stage_1_tmpres_1/stage_1_tmpres_1_convBlock/conv3: shape:[1, 1, 128, 256] strides:[1, 1, 1, 1] pad:SAME act:identity\n",
      "  [TL] ElementwiseLayer hg_stack/stage_1/stage_1_tmpres_1/stage_1_tmpres_1_add_layer: size:(16, 64, 64, 256) fn:add\n",
      "  [TL] Conv2dLayer hg_stack/stage_1/stage_1_lin1/conv1: shape:[1, 1, 256, 256] strides:[1, 1, 1, 1] pad:SAME act:identity\n",
      "  [TL] BatchNormLayer hg_stack/stage_1/stage_1_lin1/bn1: decay:0.900000 epsilon:0.000010 act:relu is_train:False\n",
      "  [TL] Conv2dLayer hg_stack/stage_1/stage_1_out: shape:[1, 1, 256, 14] strides:[1, 1, 1, 1] pad:SAME act:identity\n",
      "  [TL] StackLayer gfinal_output: axis: 1\n",
      "INFO:tensorflow:Restoring parameters from /media/bnrc2/_backup/models/hg2/hourglass_8_80_base\n"
     ]
    }
   ],
   "source": [
    "sess.run(init)\n",
    "coord = tf.train.Coordinator()\n",
    "threads = tf.train.start_queue_runners(coord=coord, sess=sess)\n",
    "\n",
    "model = HourglassModel(nFeat=network_params['nfeats'], nStack=network_params['nstack'],\n",
    "                       nModules=network_params['nmodules'], outputDim=network_params['partnum'])._graph_hourglass\n",
    "output = model(img, reuse=False).outputs\n",
    "ht256 = tf.image.resize_images(output[:,-1,:], [256, 256])\n",
    "sess.run(init)\n",
    "saver = tf.train.Saver()\n",
    "saver.restore(sess,resume)"
   ]
  },
  {
   "cell_type": "code",
   "execution_count": 5,
   "metadata": {},
   "outputs": [],
   "source": [
    "train_img,train_out, train_ht, train_size, train_name,h256 = sess.run(\n",
    "            [img, output,hm, sz, nm,ht256], )\n"
   ]
  },
  {
   "cell_type": "code",
   "execution_count": 6,
   "metadata": {
    "collapsed": true
   },
   "outputs": [],
   "source": [
    "predictions = dict()\n",
    "predictions['image_ids'] = []\n",
    "predictions['annos'] = dict()\n",
    "return_dict = dict()\n",
    "return_dict['error'] = None\n",
    "return_dict['warning'] = []\n",
    "return_dict['score'] = None\n",
    "anno = load_annotations(params[\"label_dir\"], return_dict)\n",
    "\n"
   ]
  },
  {
   "cell_type": "code",
   "execution_count": 7,
   "metadata": {},
   "outputs": [
    {
     "name": "stdout",
     "output_type": "stream",
     "text": [
      "1.0\n"
     ]
    }
   ],
   "source": [
    "predictions = getjointcoord(train_ht, train_size, train_name, predictions)\n",
    "\n",
    "score = getScore(predictions, anno, return_dict)\n",
    "\n",
    "print(score)"
   ]
  },
  {
   "cell_type": "code",
   "execution_count": 8,
   "metadata": {
    "collapsed": true
   },
   "outputs": [],
   "source": [
    "out_predictions = dict()\n",
    "out_predictions['image_ids'] = []\n",
    "out_predictions['annos'] = dict()\n",
    "out_return_dict = dict()\n",
    "out_return_dict['error'] = None\n",
    "out_return_dict['warning'] = []\n",
    "out_return_dict['score'] = None\n",
    "anno2 = load_annotations(params[\"label_dir\"], out_return_dict)\n",
    "out_predictions = getjointcoord(train_out, train_size, train_name, out_predictions)"
   ]
  },
  {
   "cell_type": "code",
   "execution_count": 9,
   "metadata": {},
   "outputs": [
    {
     "name": "stdout",
     "output_type": "stream",
     "text": [
      "76055f8a3a3a65d489b170e271ef78d60ba2cd54\n",
      "[[ 456.84375     215.29268293    1.        ]\n",
      " [ 118.09375     240.75609756    1.        ]\n",
      " [  58.8125      291.68292683    1.        ]\n",
      " [ 516.125       232.26829268    1.        ]\n",
      " [ 516.125       435.97560976    1.        ]\n",
      " [ 228.1875      317.14634146    1.        ]\n",
      " [ 151.96875     334.12195122    1.        ]\n",
      " [ 135.03125     452.95121951    1.        ]\n",
      " [ 160.4375      452.95121951    1.        ]\n",
      " [ 448.375       486.90243902    1.        ]\n",
      " [ 135.03125     452.95121951    1.        ]\n",
      " [ 160.4375      452.95121951    1.        ]\n",
      " [ 473.78125      87.97560976    1.        ]\n",
      " [ 465.3125      198.31707317    1.        ]]\n",
      "[490, 219, 2, 400, 320, 1, 267, 317, 2, 487, 207, 1, 390, 281, 1, 254, 298, 1, 453, 445, 2, 281, 329, 2, 121, 447, 2, 444, 455, 1, 275, 340, 1, 120, 458, 1, 481, 94, 1, 483, 196, 2]\n"
     ]
    }
   ],
   "source": [
    "prediction_id_set = set(anno2['image_ids'])\n",
    "for image_id in out_predictions['image_ids']:\n",
    "    print(image_id)\n",
    "    # if the image in the predictions, then compute oks\n",
    "    if image_id in prediction_id_set:\n",
    "        print(out_predictions['annos'][image_id][\"keypoint_annos\"][\"human1\"])\n",
    "        print(anno2['annos'][image_id][\"keypoint_annos\"][\"human1\"])\n",
    "    break"
   ]
  },
  {
   "cell_type": "code",
   "execution_count": 10,
   "metadata": {},
   "outputs": [
    {
     "name": "stdout",
     "output_type": "stream",
     "text": [
      "0.266666666667\n"
     ]
    }
   ],
   "source": [
    "out_predictions = getjointcoord(train_out, train_size, train_name, out_predictions,inputsize=64)\n",
    "outscore = getScore(out_predictions, anno2, out_return_dict)\n",
    "       \n",
    "print(outscore)"
   ]
  },
  {
   "cell_type": "code",
   "execution_count": 11,
   "metadata": {},
   "outputs": [
    {
     "name": "stdout",
     "output_type": "stream",
     "text": [
      "(16, 256, 256, 14)\n"
     ]
    }
   ],
   "source": [
    "print(h256.shape)"
   ]
  },
  {
   "cell_type": "code",
   "execution_count": 12,
   "metadata": {},
   "outputs": [
    {
     "name": "stdout",
     "output_type": "stream",
     "text": [
      "0.266666666667\n"
     ]
    }
   ],
   "source": [
    "out_predictions = getjointcoord(h256, train_size, train_name, out_predictions,inputsize=256)\n",
    "outscore = getScore(out_predictions, anno2, out_return_dict)\n",
    "       \n",
    "print(outscore)"
   ]
  },
  {
   "cell_type": "code",
   "execution_count": 13,
   "metadata": {
    "collapsed": true
   },
   "outputs": [],
   "source": [
    "%matplotlib inline\n",
    "import matplotlib.pyplot as plt"
   ]
  },
  {
   "cell_type": "code",
   "execution_count": 14,
   "metadata": {},
   "outputs": [
    {
     "data": {
      "text/plain": [
       "(16, 2, 64, 64, 14)"
      ]
     },
     "execution_count": 14,
     "metadata": {},
     "output_type": "execute_result"
    }
   ],
   "source": [
    "train_out.shape"
   ]
  },
  {
   "cell_type": "code",
   "execution_count": 15,
   "metadata": {
    "collapsed": true
   },
   "outputs": [],
   "source": [
    "img0 = train_out[1,1,:]\n",
    "img0_gt = train_ht[1,1,:]\n"
   ]
  },
  {
   "cell_type": "code",
   "execution_count": 16,
   "metadata": {},
   "outputs": [
    {
     "data": {
      "text/plain": [
       "(64, 64, 14)"
      ]
     },
     "execution_count": 16,
     "metadata": {},
     "output_type": "execute_result"
    }
   ],
   "source": [
    "img0.shape"
   ]
  },
  {
   "cell_type": "code",
   "execution_count": 17,
   "metadata": {},
   "outputs": [
    {
     "data": {
      "text/plain": [
       "<matplotlib.image.AxesImage at 0x7f006522b438>"
      ]
     },
     "execution_count": 17,
     "metadata": {},
     "output_type": "execute_result"
    },
    {
     "data": {
      "image/png": "[encoded data removed]",
      "text/plain": [
       "<matplotlib.figure.Figure at 0x7f0099aa0860>"
      ]
     },
     "metadata": {},
     "output_type": "display_data"
    }
   ],
   "source": [
    "i =1\n",
    "\n",
    "plt.imshow(img0_gt[:,:,i])"
   ]
  },
  {
   "cell_type": "code",
   "execution_count": 18,
   "metadata": {},
   "outputs": [
    {
     "data": {
      "text/plain": [
       "<matplotlib.image.AxesImage at 0x7f00613b9048>"
      ]
     },
     "execution_count": 18,
     "metadata": {},
     "output_type": "execute_result"
    },
    {
     "data": {
      "image/png": "[encoded data removed]",
      "text/plain": [
       "<matplotlib.figure.Figure at 0x7f0099aa09e8>"
      ]
     },
     "metadata": {},
     "output_type": "display_data"
    }
   ],
   "source": [
    "plt.imshow(img0[:,:,i])"
   ]
  },
  {
   "cell_type": "code",
   "execution_count": 19,
   "metadata": {},
   "outputs": [
    {
     "data": {
      "text/plain": [
       "<matplotlib.image.AxesImage at 0x7f006110e278>"
      ]
     },
     "execution_count": 19,
     "metadata": {},
     "output_type": "execute_result"
    },
    {
     "data": {
      "image/png": "[encoded data removed]",
      "text/plain": [
       "<matplotlib.figure.Figure at 0x7f00650ce828>"
      ]
     },
     "metadata": {},
     "output_type": "display_data"
    }
   ],
   "source": [
    "plt.imshow(train_img[1])"
   ]
  },
  {
   "cell_type": "code",
   "execution_count": 20,
   "metadata": {
    "collapsed": true
   },
   "outputs": [],
   "source": [
    "import numpy as np"
   ]
  },
  {
   "cell_type": "code",
   "execution_count": 21,
   "metadata": {},
   "outputs": [],
   "source": [
    "# for joint in range(14):\n",
    "#     idx = np.unravel_index( img0[:,:,joint].argmax(), (64,64))\n",
    "#     print(idx)\n",
    "#     idx = np.unravel_index( img0_gt[:,:,joint].argmax(), (64,64))\n",
    "#     print(idx)\n",
    "#     print(\"\\n\")\n",
    "    "
   ]
  },
  {
   "cell_type": "code",
   "execution_count": 26,
   "metadata": {},
   "outputs": [],
   "source": [
    "def transformPreds(coords, center, scale, res):\n",
    "#     local origDims = coords:size()\n",
    "#     coords = coords:view(-1,2)\n",
    "    newCoords = coords.copy()\n",
    "  \n",
    "    for i in range (coords.shape[0]):\n",
    "        newCoords[i] = transform(coords[i], center, scale, 0, res, 0)\n",
    "    \n",
    "    return newCoords\n",
    "\n",
    "\n",
    "# def getTransform(center, scale, rot, res):\n",
    "#     h =  scale\n",
    "#     t = np.eye(3)\n",
    "\n",
    "#     # Scaling\n",
    "#     t[0][0] = (res / h)[0]\n",
    "#     t[1][1] = (res / h)[1]\n",
    "\n",
    "    \n",
    "#     t[0][2] = res[0] * (-center[0] / h[0] + .5)\n",
    "#     t[1][2] = res[1] * (-center[1] / h[1] + .5)\n",
    "#     return t\n",
    "\n",
    "\n",
    "# def transform(pt, center, scale, rot, res, invert):\n",
    "#     pt_ = np.ones(3)\n",
    "#     pt_[0],pt_[1] = pt[0],pt[1] \n",
    "  \n",
    "#     t = getTransform(center, scale, rot, res)\n",
    "\n",
    "#     if invert :\n",
    "#         t = np.linalg.inv(t)\n",
    "#     newp =( t *pt_)\n",
    "#     return (newp[0][0],newp[1][1])"
   ]
  },
  {
   "cell_type": "code",
   "execution_count": 25,
   "metadata": {},
   "outputs": [
    {
     "name": "stdout",
     "output_type": "stream",
     "text": [
      "[[490 219]\n",
      " [400 320]\n",
      " [267 317]\n",
      " [487 207]\n",
      " [390 281]\n",
      " [254 298]\n",
      " [453 445]\n",
      " [281 329]\n",
      " [121 447]\n",
      " [444 455]\n",
      " [275 340]\n",
      " [120 458]\n",
      " [481  94]\n",
      " [483 196]]\n"
     ]
    }
   ],
   "source": [
    "from tools.img import *\n",
    "for image_id in out_predictions['image_ids']:\n",
    "    # if the image in the predictions, then compute oks\n",
    "    \n",
    "    if image_id in prediction_id_set:\n",
    "        box = label_tmp[label_tmp['image_id'] == image_id][\"human_annotations\"].to_dict()\n",
    "        \n",
    "        for key in box.keys():\n",
    "            for j in box[key].keys():\n",
    "                x1,y1,x2,y2 = box[key][j]\n",
    "        center = ((x1 + x2) * 0.5, (y1 + y2) * 0.5)\n",
    "        scale = (x2-x1,y2-y1)\n",
    "        tmp = anno2['annos'][image_id][\"keypoint_annos\"][\"human1\"]\n",
    "        t_re = np.reshape(tmp,[-1,3])\n",
    "    ori = t_re[:,0:2]\n",
    "\n",
    "    print(ori)\n",
    "    break"
   ]
  },
  {
   "cell_type": "code",
   "execution_count": 27,
   "metadata": {},
   "outputs": [
    {
     "data": {
      "text/plain": [
       "(279.0, 288.5)"
      ]
     },
     "execution_count": 27,
     "metadata": {},
     "output_type": "execute_result"
    }
   ],
   "source": [
    "center"
   ]
  },
  {
   "cell_type": "code",
   "execution_count": 28,
   "metadata": {},
   "outputs": [
    {
     "data": {
      "text/plain": [
       "(542, 435)"
      ]
     },
     "execution_count": 28,
     "metadata": {},
     "output_type": "execute_result"
    }
   ],
   "source": [
    "scale"
   ]
  },
  {
   "cell_type": "code",
   "execution_count": null,
   "metadata": {
    "collapsed": true
   },
   "outputs": [],
   "source": []
  }
 ],
 "metadata": {
  "kernelspec": {
   "display_name": "Python [conda env:tf14]",
   "language": "python",
   "name": "conda-env-tf14-py"
  },
  "language_info": {
   "codemirror_mode": {
    "name": "ipython",
    "version": 3
   },
   "file_extension": ".py",
   "mimetype": "text/x-python",
   "name": "python",
   "nbconvert_exporter": "python",
   "pygments_lexer": "ipython3",
   "version": "3.5.4"
  }
 },
 "nbformat": 4,
 "nbformat_minor": 2
}
